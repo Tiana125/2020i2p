{
 "cells": [
  {
   "cell_type": "markdown",
   "metadata": {},
   "source": [
    "<div style=\"float:left\">\n",
    "    <h1 style=\"width:450px\">Live Coding 3: Foundations (Part 2)</h1>\n",
    "    <h2 style=\"width:450px\">Getting to grips with Dictionaries, LOLs and DOLs, Packages and Functions</h2>\n",
    "</div>\n",
    "<div style=\"float:right\"><img width=\"100\" src=\"https://github.com/jreades/i2p/raw/master/img/casa_logo.jpg\" /></div>"
   ]
  },
  {
   "cell_type": "markdown",
   "metadata": {},
   "source": [
    "## Task 1: Reading a Remote File"
   ]
  },
  {
   "cell_type": "markdown",
   "metadata": {},
   "source": [
    "#### Task 1.1: Research Solution\n",
    "\n",
    "- Google: [read remote CSV file Python](https://www.google.com/search?q=read+remote+csv+file+python&rlz=1C5CHFA_enGB917GB917&oq=read+remote+csv+&aqs=chrome.0.0j69i57j0l5j69i64.3752j0j7&sourceid=chrome&ie=UTF-8)\n",
    "- Oooh look, [Stack Overflow link](https://stackoverflow.com/questions/16283799/how-to-read-a-csv-file-from-a-url-with-python)\n",
    "- Let's review this--note: Python2 vs Python3\n",
    "  - Look at dates on answers to see if reasonably useful\n",
    "  - Read responses to what looks like useful answer\n",
    "  - Which answer was accepted?\n",
    "- OK, so it looks like `urllib` and `csv` will be useful.\n",
    "  - How do we work out what's possible?\n",
    "  - How do we read help for a function?"
   ]
  },
  {
   "cell_type": "code",
   "execution_count": 1,
   "metadata": {},
   "outputs": [
    {
     "data": {
      "text/plain": [
       "\u001b[0;31mSignature:\u001b[0m\n",
       "\u001b[0murlopen\u001b[0m\u001b[0;34m(\u001b[0m\u001b[0;34m\u001b[0m\n",
       "\u001b[0;34m\u001b[0m    \u001b[0murl\u001b[0m\u001b[0;34m,\u001b[0m\u001b[0;34m\u001b[0m\n",
       "\u001b[0;34m\u001b[0m    \u001b[0mdata\u001b[0m\u001b[0;34m=\u001b[0m\u001b[0;32mNone\u001b[0m\u001b[0;34m,\u001b[0m\u001b[0;34m\u001b[0m\n",
       "\u001b[0;34m\u001b[0m    \u001b[0mtimeout\u001b[0m\u001b[0;34m=\u001b[0m\u001b[0;34m<\u001b[0m\u001b[0mobject\u001b[0m \u001b[0mobject\u001b[0m \u001b[0mat\u001b[0m \u001b[0;36m0x7ff72e05acd0\u001b[0m\u001b[0;34m>\u001b[0m\u001b[0;34m,\u001b[0m\u001b[0;34m\u001b[0m\n",
       "\u001b[0;34m\u001b[0m    \u001b[0;34m*\u001b[0m\u001b[0;34m,\u001b[0m\u001b[0;34m\u001b[0m\n",
       "\u001b[0;34m\u001b[0m    \u001b[0mcafile\u001b[0m\u001b[0;34m=\u001b[0m\u001b[0;32mNone\u001b[0m\u001b[0;34m,\u001b[0m\u001b[0;34m\u001b[0m\n",
       "\u001b[0;34m\u001b[0m    \u001b[0mcapath\u001b[0m\u001b[0;34m=\u001b[0m\u001b[0;32mNone\u001b[0m\u001b[0;34m,\u001b[0m\u001b[0;34m\u001b[0m\n",
       "\u001b[0;34m\u001b[0m    \u001b[0mcadefault\u001b[0m\u001b[0;34m=\u001b[0m\u001b[0;32mFalse\u001b[0m\u001b[0;34m,\u001b[0m\u001b[0;34m\u001b[0m\n",
       "\u001b[0;34m\u001b[0m    \u001b[0mcontext\u001b[0m\u001b[0;34m=\u001b[0m\u001b[0;32mNone\u001b[0m\u001b[0;34m,\u001b[0m\u001b[0;34m\u001b[0m\n",
       "\u001b[0;34m\u001b[0m\u001b[0;34m)\u001b[0m\u001b[0;34m\u001b[0m\u001b[0;34m\u001b[0m\u001b[0m\n",
       "\u001b[0;31mDocstring:\u001b[0m\n",
       "Open the URL url, which can be either a string or a Request object.\n",
       "\n",
       "*data* must be an object specifying additional data to be sent to\n",
       "the server, or None if no such data is needed.  See Request for\n",
       "details.\n",
       "\n",
       "urllib.request module uses HTTP/1.1 and includes a \"Connection:close\"\n",
       "header in its HTTP requests.\n",
       "\n",
       "The optional *timeout* parameter specifies a timeout in seconds for\n",
       "blocking operations like the connection attempt (if not specified, the\n",
       "global default timeout setting will be used). This only works for HTTP,\n",
       "HTTPS and FTP connections.\n",
       "\n",
       "If *context* is specified, it must be a ssl.SSLContext instance describing\n",
       "the various SSL options. See HTTPSConnection for more details.\n",
       "\n",
       "The optional *cafile* and *capath* parameters specify a set of trusted CA\n",
       "certificates for HTTPS requests. cafile should point to a single file\n",
       "containing a bundle of CA certificates, whereas capath should point to a\n",
       "directory of hashed certificate files. More information can be found in\n",
       "ssl.SSLContext.load_verify_locations().\n",
       "\n",
       "The *cadefault* parameter is ignored.\n",
       "\n",
       "This function always returns an object which can work as a context\n",
       "manager and has methods such as\n",
       "\n",
       "* geturl() - return the URL of the resource retrieved, commonly used to\n",
       "  determine if a redirect was followed\n",
       "\n",
       "* info() - return the meta-information of the page, such as headers, in the\n",
       "  form of an email.message_from_string() instance (see Quick Reference to\n",
       "  HTTP Headers)\n",
       "\n",
       "* getcode() - return the HTTP status code of the response.  Raises URLError\n",
       "  on errors.\n",
       "\n",
       "For HTTP and HTTPS URLs, this function returns a http.client.HTTPResponse\n",
       "object slightly modified. In addition to the three new methods above, the\n",
       "msg attribute contains the same information as the reason attribute ---\n",
       "the reason phrase returned by the server --- instead of the response\n",
       "headers as it is specified in the documentation for HTTPResponse.\n",
       "\n",
       "For FTP, file, and data URLs and requests explicitly handled by legacy\n",
       "URLopener and FancyURLopener classes, this function returns a\n",
       "urllib.response.addinfourl object.\n",
       "\n",
       "Note that None may be returned if no handler handles the request (though\n",
       "the default installed global OpenerDirector uses UnknownHandler to ensure\n",
       "this never happens).\n",
       "\n",
       "In addition, if proxy settings are detected (for example, when a *_proxy\n",
       "environment variable like http_proxy is set), ProxyHandler is default\n",
       "installed and makes sure the requests are handled through the proxy.\n",
       "\u001b[0;31mFile:\u001b[0m      /opt/conda/envs/sds2020/lib/python3.7/urllib/request.py\n",
       "\u001b[0;31mType:\u001b[0m      function\n"
      ]
     },
     "metadata": {},
     "output_type": "display_data"
    }
   ],
   "source": [
    "from urllib.request import urlopen\n",
    "?urlopen"
   ]
  },
  {
   "cell_type": "markdown",
   "metadata": {},
   "source": [
    "#### Task 1.2: Implementing Solution\n",
    "\n",
    "OK, so now we know what to do, how do we do it?\n",
    "\n",
    "- Set a `url` variable\n",
    "- Capture the response\n",
    "- Read it, what's the decoding thing?\n",
    "- Look at the '.' cropping up: we'll deal with that later."
   ]
  },
  {
   "cell_type": "code",
   "execution_count": 2,
   "metadata": {},
   "outputs": [
    {
     "name": "stdout",
     "output_type": "stream",
     "text": [
      "datafile variable is of type: 'str'.\n",
      "\n"
     ]
    }
   ],
   "source": [
    "from urllib.request import urlopen\n",
    "\n",
    "# Given the info you were given above, what do you \n",
    "# think the value of 'url' should be? What\n",
    "# type of variable is it? int or string? \n",
    "url = 'https://github.com/jreades/i2p/raw/master/data/src/2019-sample-Crime.csv'\n",
    "\n",
    "# Read the URL stream into variable called 'response'\n",
    "# using the function that we imported above\n",
    "response = urlopen(url)\n",
    "\n",
    "# Now read from the stream, decoding so that we get actual text\n",
    "datafile = response.read().decode('utf-8')\n",
    "\n",
    "# You might want to explore what `__class__` and `__name__`\n",
    "# offer, but basically the give us a way of finding out what\n",
    "# is 'behind' more complex variables\n",
    "print(\"datafile variable is of type: '\" + datafile.__class__.__name__ + \"'.\\n\")"
   ]
  },
  {
   "cell_type": "markdown",
   "metadata": {},
   "source": [
    "#### Task 1.3: Checking Solution \n",
    "\n",
    "It's tempting to just print out the contents of datafile, but what should we do?\n",
    "- Print out the size of the variable (how do we do this for a string?)\n",
    "- Print out some of the top of the file (how do we do this for the first _n_ chars in a string?)"
   ]
  },
  {
   "cell_type": "code",
   "execution_count": 3,
   "metadata": {},
   "outputs": [
    {
     "name": "stdout",
     "output_type": "stream",
     "text": [
      "12944\n",
      "ID,Case Number,Date,Primary Type,Description,Location Description,Arrest,Domestic,Year,Latitude,Longitude\n",
      "11667185,JC237601,04/20/2019 11:00:00 PM,BURGLARY,FORCIBLE ENTRY,COMMERCIAL / BUSINESS OFFICE,False,False,2019,41.751307057,-87.60346764\n",
      "11909178,JC532226,12/02/2019 10:35:00 AM,DECEPTIVE PRACTICE,FRAUD OR CONFIDENCE GAME,GROCERY FOOD STORE,False,False,2019,41.903996883000005,-87.64323023799999\n",
      "11852571,JC462365,10/06/2019 04:50:00 PM,BATTERY,AGGRAVATED DOMESTIC BATTERY - OTHER DANGEROUS WEAPON,CLEANING STORE,True,True,2019,41.880328606,-87.758473298\n",
      "11804855,JC405161,08/23/2019 10:00:00 P\n"
     ]
    }
   ],
   "source": [
    "print(len(datafile))\n",
    "print(datafile[:600])"
   ]
  },
  {
   "cell_type": "markdown",
   "metadata": {},
   "source": [
    "## Task 2: Parsing a CSV file using a Package"
   ]
  },
  {
   "cell_type": "markdown",
   "metadata": {},
   "source": [
    "Right, so we've got our data in `datafile`, what are we going to do with it now?"
   ]
  },
  {
   "cell_type": "markdown",
   "metadata": {},
   "source": [
    "#### Task 2.1: Research Solution\n",
    "- We need to turn it into data by reading the CSV\n",
    "  - Google [what to do](https://www.google.com/search?q=read+csv+file+python&rlz=1C5CHFA_enGB917GB917&oq=read+csv+file+&aqs=chrome.1.69i57j0l6j69i60.3231j0j7&sourceid=chrome&ie=UTF-8)\n",
    "  - Hmmm, [this looks useful](https://docs.python.org/3/library/csv.html), \n",
    "  - Maybe also try [read csv file python example](https://www.google.com/search?rlz=1C5CHFA_enGB917GB917&sxsrf=ALeKk01BVGKqVxUdb0YycI7g2M_nvXIRfA%3A1602420552942&ei=SP-CX_HZONeR1fAPiOuEqA4&q=read+csv+file+python+example&oq=read+csv+file+python+exa&gs_lcp=CgZwc3ktYWIQAxgAMgUIABDJAzIGCAAQFhAeMgYIABAWEB4yBggAEBYQHjoECAAQRzoHCAAQyQMQQzoECAAQQzoCCABQ_AhYwAxg8BZoAHACeACAAV-IAdACkgEBNJgBAKABAaoBB2d3cy13aXrIAQjAAQE&sclient=psy-ab)\n",
    "- OK, so it looks like we need to `splitlines` first.\n",
    "- Then let's read it into a list (What data structure is this?)\n",
    "- Now, how would we print out the number of rows and columns?"
   ]
  },
  {
   "cell_type": "code",
   "execution_count": 4,
   "metadata": {},
   "outputs": [
    {
     "name": "stdout",
     "output_type": "stream",
     "text": [
      "urlData has 101 rows and 11 columns.\n"
     ]
    }
   ],
   "source": [
    "import csv \n",
    "\n",
    "urlData = [] # Somewhere to store the data\n",
    "\n",
    "csvfile = csv.reader(datafile.splitlines())\n",
    "\n",
    "for row in csvfile:              \n",
    "    urlData.append( row )\n",
    "\n",
    "print(f\"urlData has {len(urlData)} rows and {len(urlData[0])} columns.\")"
   ]
  },
  {
   "cell_type": "markdown",
   "metadata": {},
   "source": [
    "#### Task 2.2: Selecting a Sample Row\n",
    "\n",
    "How could we print out a random row? Let's Google it.\n",
    "- Library random seems promising\n",
    "- Which function do we want?"
   ]
  },
  {
   "cell_type": "code",
   "execution_count": 5,
   "metadata": {},
   "outputs": [
    {
     "name": "stdout",
     "output_type": "stream",
     "text": [
      "Help on method randint in module random:\n",
      "\n",
      "randint(a, b) method of random.Random instance\n",
      "    Return random integer in range [a, b], including both end points.\n",
      "\n"
     ]
    }
   ],
   "source": [
    "import random\n",
    "dir(random)\n",
    "help(random.randint)"
   ]
  },
  {
   "cell_type": "code",
   "execution_count": 6,
   "metadata": {},
   "outputs": [
    {
     "data": {
      "text/plain": [
       "['11748303',\n",
       " 'JC337474',\n",
       " '07/05/2019 12:00:00 AM',\n",
       " 'THEFT',\n",
       " 'FROM BUILDING',\n",
       " 'RESIDENCE',\n",
       " 'False',\n",
       " 'False',\n",
       " '2019',\n",
       " '41.900114659',\n",
       " '-87.672297954']"
      ]
     },
     "execution_count": 6,
     "metadata": {},
     "output_type": "execute_result"
    }
   ],
   "source": [
    "urlData[random.randint(1,len(urlData))]"
   ]
  },
  {
   "cell_type": "markdown",
   "metadata": {},
   "source": [
    "## Task 3: Reading File as Dictionary of Lists"
   ]
  },
  {
   "cell_type": "markdown",
   "metadata": {},
   "source": [
    "#### Task 3.1: Finding the Header Row\n",
    "\n",
    "Sometimes this is easy (it's the very first row in a CSV file), but often (especially with Excel data from, e.g., the Office for National Statistics) it's _not_. So here is where doing some quick, initial checks using `head` can be helpful."
   ]
  },
  {
   "cell_type": "code",
   "execution_count": 7,
   "metadata": {},
   "outputs": [
    {
     "data": {
      "text/plain": [
       "['ID',\n",
       " 'Case Number',\n",
       " 'Date',\n",
       " 'Primary Type',\n",
       " 'Description',\n",
       " 'Location Description',\n",
       " 'Arrest',\n",
       " 'Domestic',\n",
       " 'Year',\n",
       " 'Latitude',\n",
       " 'Longitude']"
      ]
     },
     "execution_count": 7,
     "metadata": {},
     "output_type": "execute_result"
    }
   ],
   "source": [
    "urlData[0]"
   ]
  },
  {
   "cell_type": "markdown",
   "metadata": {},
   "source": [
    "OK, some questions:\n",
    "- What does row 0 give us? Are these data, or something else?\n",
    "- If we were making a dictionary-of-lists, how would we use Row 0?\n",
    "- What do we need to do to set this up?"
   ]
  },
  {
   "cell_type": "markdown",
   "metadata": {},
   "source": [
    "#### Task 3.2: Creating a DOL from Data\n",
    "\n",
    "How would we use the header row to initialise our Dictionary-of-Lists."
   ]
  },
  {
   "cell_type": "code",
   "execution_count": 8,
   "metadata": {},
   "outputs": [],
   "source": [
    "ds = {}\n",
    "col_names = urlData[0]\n",
    "for c in col_names:\n",
    "    ds[c] = []"
   ]
  },
  {
   "cell_type": "markdown",
   "metadata": {},
   "source": [
    "Next...\n",
    "- How would we print out all of the column names?\n",
    "- How would we go about adding all of the data?\n",
    "- What kind of loop would this use?"
   ]
  },
  {
   "cell_type": "code",
   "execution_count": 9,
   "metadata": {},
   "outputs": [
    {
     "name": "stdout",
     "output_type": "stream",
     "text": [
      "dict_keys(['ID', 'Case Number', 'Date', 'Primary Type', 'Description', 'Location Description', 'Arrest', 'Domestic', 'Year', 'Latitude', 'Longitude'])\n"
     ]
    }
   ],
   "source": [
    "print(ds.keys())"
   ]
  },
  {
   "cell_type": "code",
   "execution_count": 10,
   "metadata": {},
   "outputs": [],
   "source": [
    "for r in urlData[1:len(urlData)]:\n",
    "    for c in range(0,len(col_names)):\n",
    "        ds[ col_names[c] ].append( r[c] )"
   ]
  },
  {
   "cell_type": "markdown",
   "metadata": {},
   "source": [
    "#### Task 3.3: Validating/Checking\n",
    "\n",
    "Let's check a few columns to see if the data makes sense!"
   ]
  },
  {
   "cell_type": "code",
   "execution_count": 11,
   "metadata": {},
   "outputs": [
    {
     "name": "stdout",
     "output_type": "stream",
     "text": [
      "['JC237601', 'JC532226', 'JC462365', 'JC405161', 'JC409088', 'JC340284', 'JC431308', 'JC388943', 'JC372325', 'JC374938', 'JC558223', 'JC203700', 'JC490206', 'JC290439', 'JC241440', 'JC161382', 'JC248827', 'JC402551', 'JC265303', 'JC227392']\n",
      "\n",
      "['BURGLARY', 'DECEPTIVE PRACTICE', 'BATTERY', 'THEFT', 'BATTERY', 'THEFT', 'NARCOTICS', 'THEFT', 'THEFT', 'CRIMINAL DAMAGE', 'ASSAULT', 'BURGLARY', 'CRIMINAL DAMAGE', 'OTHER OFFENSE', 'NARCOTICS', 'STALKING', 'DECEPTIVE PRACTICE', 'BATTERY', 'CRIMINAL DAMAGE', 'BATTERY']\n",
      "\n"
     ]
    }
   ],
   "source": [
    "print(ds['Case Number'][:20])\n",
    "print()\n",
    "print(ds['Primary Type'][:20])\n",
    "print()"
   ]
  },
  {
   "cell_type": "markdown",
   "metadata": {},
   "source": [
    "Actually, is there a better way to do this? Rather than printing each out in turn, could we do this as a loop?"
   ]
  },
  {
   "cell_type": "code",
   "execution_count": 12,
   "metadata": {},
   "outputs": [
    {
     "name": "stdout",
     "output_type": "stream",
     "text": [
      "['11667185', '11909178', '11852571', '11804855', '11808164']\n",
      "\n",
      "['JC237601', 'JC532226', 'JC462365', 'JC405161', 'JC409088']\n",
      "\n",
      "['04/20/2019 11:00:00 PM', '12/02/2019 10:35:00 AM', '10/06/2019 04:50:00 PM', '08/23/2019 10:00:00 PM', '08/26/2019 12:00:00 AM']\n",
      "\n",
      "['BURGLARY', 'DECEPTIVE PRACTICE', 'BATTERY', 'THEFT', 'BATTERY']\n",
      "\n",
      "['FORCIBLE ENTRY', 'FRAUD OR CONFIDENCE GAME', 'AGGRAVATED DOMESTIC BATTERY - OTHER DANGEROUS WEAPON', 'OVER $500', 'SIMPLE']\n",
      "\n",
      "['COMMERCIAL / BUSINESS OFFICE', 'GROCERY FOOD STORE', 'CLEANING STORE', 'STREET', 'ALLEY']\n",
      "\n",
      "['False', 'False', 'True', 'False', 'False']\n",
      "\n",
      "['False', 'False', 'True', 'False', 'False']\n",
      "\n",
      "['2019', '2019', '2019', '2019', '2019']\n",
      "\n",
      "['41.751307057', '41.903996883000005', '41.880328606', '41.924383963000004', '41.755797128000005']\n",
      "\n",
      "['-87.60346764', '-87.64323023799999', '-87.758473298', '-87.64144151299999', '-87.634426259']\n",
      "\n"
     ]
    }
   ],
   "source": [
    "for c in ds.keys():\n",
    "    print(ds[c][:5])\n",
    "    print()"
   ]
  },
  {
   "cell_type": "markdown",
   "metadata": {},
   "source": [
    "How would we improve this? What is it that we can't count on in dictionaries?"
   ]
  },
  {
   "cell_type": "code",
   "execution_count": 13,
   "metadata": {},
   "outputs": [
    {
     "name": "stdout",
     "output_type": "stream",
     "text": [
      "ID:\t['11667185', '11909178', '11852571', '11804855', '11808164']\n",
      "\n",
      "Case Number:\t['JC237601', 'JC532226', 'JC462365', 'JC405161', 'JC409088']\n",
      "\n",
      "Date:\t['04/20/2019 11:00:00 PM', '12/02/2019 10:35:00 AM', '10/06/2019 04:50:00 PM', '08/23/2019 10:00:00 PM', '08/26/2019 12:00:00 AM']\n",
      "\n",
      "Primary Type:\t['BURGLARY', 'DECEPTIVE PRACTICE', 'BATTERY', 'THEFT', 'BATTERY']\n",
      "\n",
      "Description:\t['FORCIBLE ENTRY', 'FRAUD OR CONFIDENCE GAME', 'AGGRAVATED DOMESTIC BATTERY - OTHER DANGEROUS WEAPON', 'OVER $500', 'SIMPLE']\n",
      "\n",
      "Location Description:\t['COMMERCIAL / BUSINESS OFFICE', 'GROCERY FOOD STORE', 'CLEANING STORE', 'STREET', 'ALLEY']\n",
      "\n",
      "Arrest:\t['False', 'False', 'True', 'False', 'False']\n",
      "\n",
      "Domestic:\t['False', 'False', 'True', 'False', 'False']\n",
      "\n",
      "Year:\t['2019', '2019', '2019', '2019', '2019']\n",
      "\n",
      "Latitude:\t['41.751307057', '41.903996883000005', '41.880328606', '41.924383963000004', '41.755797128000005']\n",
      "\n",
      "Longitude:\t['-87.60346764', '-87.64323023799999', '-87.758473298', '-87.64144151299999', '-87.634426259']\n",
      "\n"
     ]
    }
   ],
   "source": [
    "for c in ds.keys():\n",
    "    print(f\"{c}:\\t{ds[c][:5]}\")\n",
    "    print()"
   ]
  },
  {
   "cell_type": "markdown",
   "metadata": {},
   "source": [
    "## Task 4: Fixing Column Types\n",
    "\n",
    "OK, so we have a few columns that aren't really of the right type. We have date-time types in Python that we're not going to get stuck into now, but we also very obviously have numbers and booleans as well that we need to deal with!\n",
    "\n",
    "So how we would do this? The process for each float would be the same. The process for each int would be the same. The process for each boolean would be the same. Sounds like a good opportunity for a function!"
   ]
  },
  {
   "cell_type": "markdown",
   "metadata": {},
   "source": [
    "#### Task 4.1: What Type Am I?"
   ]
  },
  {
   "cell_type": "markdown",
   "metadata": {},
   "source": [
    "Given these data:\n",
    "```\n",
    "ID:\t['11667185', '11909178', '11852571', '11804855', '11808164']\n",
    "Case Number:\t['JC237601', 'JC532226', 'JC462365', 'JC405161', 'JC409088']\n",
    "Date:\t['04/20/2019 11:00:00 PM', '12/02/2019 10:35:00 AM', '10/06/2019 04:50:00 PM', '08/23/2019 10:00:00 PM', '08/26/2019 12:00:00 AM']\n",
    "Primary Type:\t['BURGLARY', 'DECEPTIVE PRACTICE', 'BATTERY', 'THEFT', 'BATTERY']\n",
    "Description:\t['FORCIBLE ENTRY', 'FRAUD OR CONFIDENCE GAME', 'AGGRAVATED DOMESTIC BATTERY - OTHER DANGEROUS WEAPON', 'OVER $500', 'SIMPLE']\n",
    "Location Description:\t['COMMERCIAL / BUSINESS OFFICE', 'GROCERY FOOD STORE', 'CLEANING STORE', 'STREET', 'ALLEY']\n",
    "Arrest:\t['False', 'False', 'True', 'False', 'False']\n",
    "Domestic:\t['False', 'False', 'True', 'False', 'False']\n",
    "Year:\t['2019', '2019', '2019', '2019', '2019']\n",
    "Latitude:\t['41.751307057', '41.903996883000005', '41.880328606', '41.924383963000004', '41.755797128000005']\n",
    "Longitude:\t['-87.60346764', '-87.64323023799999', '-87.758473298', '-87.64144151299999', '-87.634426259']\n",
    "```\n",
    "What Python data type should each one be?"
   ]
  },
  {
   "cell_type": "markdown",
   "metadata": {},
   "source": [
    "- ID: \n",
    "- Case Number: \n",
    "- Date: \n",
    "- Primary Type: \n",
    "- Description: \n",
    "- Location Description: \n",
    "- Arrest: \n",
    "- Domestic: \n",
    "- Year: \n",
    "- Latitude: \n",
    "- Longitude: "
   ]
  },
  {
   "cell_type": "markdown",
   "metadata": {},
   "source": [
    "#### Task 4.2: Converting One Column\n",
    "\n",
    "Floats first!"
   ]
  },
  {
   "cell_type": "code",
   "execution_count": 14,
   "metadata": {},
   "outputs": [],
   "source": [
    "def to_float(col_data):\n",
    "    fdata = []\n",
    "    for c in col_data:\n",
    "        fdata.append( float(c) )\n",
    "    return fdata\n",
    "\n",
    "float_cols = ['Latitude','Longitude']\n",
    "for f in float_cols:\n",
    "    ds[ f ] = to_float( ds[f] )"
   ]
  },
  {
   "cell_type": "code",
   "execution_count": 15,
   "metadata": {},
   "outputs": [
    {
     "data": {
      "text/plain": [
       "[41.751307057,\n",
       " 41.903996883000005,\n",
       " 41.880328606,\n",
       " 41.924383963000004,\n",
       " 41.755797128000005,\n",
       " 41.689755622]"
      ]
     },
     "execution_count": 15,
     "metadata": {},
     "output_type": "execute_result"
    }
   ],
   "source": [
    "ds['Latitude'][:6]"
   ]
  },
  {
   "cell_type": "markdown",
   "metadata": {},
   "source": [
    "Then booleans!"
   ]
  },
  {
   "cell_type": "code",
   "execution_count": 16,
   "metadata": {},
   "outputs": [],
   "source": [
    "def to_bool(col_data):\n",
    "    fdata = []\n",
    "    for c in col_data:\n",
    "        fdata.append( c=='True' )\n",
    "    return fdata\n",
    "\n",
    "bool_cols = ['Arrest','Domestic']\n",
    "for b in bool_cols:\n",
    "    ds[ b ] = to_bool( ds[b] )"
   ]
  },
  {
   "cell_type": "code",
   "execution_count": 17,
   "metadata": {},
   "outputs": [
    {
     "data": {
      "text/plain": [
       "[False, False, True, False, False, False]"
      ]
     },
     "execution_count": 17,
     "metadata": {},
     "output_type": "execute_result"
    }
   ],
   "source": [
    "ds['Arrest'][:6]"
   ]
  },
  {
   "cell_type": "markdown",
   "metadata": {},
   "source": [
    "Then ints! (Drop if time is short)"
   ]
  },
  {
   "cell_type": "code",
   "execution_count": 18,
   "metadata": {},
   "outputs": [],
   "source": [
    "def to_int(col_data):\n",
    "    fdata = []\n",
    "    for c in col_data:\n",
    "        fdata.append( int(c) )\n",
    "    return fdata\n",
    "\n",
    "int_cols = ['ID','Year']\n",
    "for i in int_cols:\n",
    "    ds[ i ] = to_int( ds[i] )"
   ]
  },
  {
   "cell_type": "code",
   "execution_count": 19,
   "metadata": {},
   "outputs": [
    {
     "data": {
      "text/plain": [
       "[2019, 2019, 2019, 2019, 2019, 2019]"
      ]
     },
     "execution_count": 19,
     "metadata": {},
     "output_type": "execute_result"
    }
   ],
   "source": [
    "ds['Year'][:6]"
   ]
  }
 ],
 "metadata": {
  "anaconda-cloud": {},
  "kernelspec": {
   "display_name": "Python 3",
   "language": "python",
   "name": "python3"
  },
  "language_info": {
   "codemirror_mode": {
    "name": "ipython",
    "version": 3
   },
   "file_extension": ".py",
   "mimetype": "text/x-python",
   "name": "python",
   "nbconvert_exporter": "python",
   "pygments_lexer": "ipython3",
   "version": "3.7.8"
  }
 },
 "nbformat": 4,
 "nbformat_minor": 4
}
