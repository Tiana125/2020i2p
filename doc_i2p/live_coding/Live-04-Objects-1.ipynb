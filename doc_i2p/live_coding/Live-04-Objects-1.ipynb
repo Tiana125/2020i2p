{
 "cells": [
  {
   "cell_type": "markdown",
   "metadata": {},
   "source": [
    "<div style=\"float:left\">\n",
    "    <h1 style=\"width:450px\">Live Coding 4: Object-Oriented Programming 1</h1>\n",
    "    <h2 style=\"width:450px\">Getting to grips with Classes &amp; Objects</h2>\n",
    "</div>\n",
    "<div style=\"float:right\"><img width=\"100\" src=\"https://github.com/jreades/i2p/raw/master/img/casa_logo.jpg\" /></div>"
   ]
  },
  {
   "cell_type": "markdown",
   "metadata": {},
   "source": [
    "## Task 1: Creating a Class Hierarchy\n",
    "\n",
    "We want to create a set of ideal shape classes with methods allowing us to derive various properties of that shape:\n",
    "\n",
    "- Diameter: which we'll define as the longest line that can be drawn across the inside of the shape.\n",
    "- Volume: the total volume of the shape.\n",
    "- Surface Area: the total outside area of the shape.\n",
    "\n",
    "We will create all of these shape classes in the notebook so that we know they work and then will move them to an external package file so that they can be imported and re-used easily in other notebooks.\n",
    "\n",
    "We're also going to make use of a few features of Python:\n",
    "\n",
    "- You can access the class name of an instance using: `self.__class__.__name__`. And here's one key point: `self` refers to the instance, not to the class... we'll see why this matters.\n",
    "- You can raise your own exceptions easily if you don't want to implement a particular method yet.\n",
    "- You can have an 'abstract' base class that does nothing except provide a template for the 'real' classes so that they can be used interchangeably.\n"
   ]
  },
  {
   "cell_type": "code",
   "execution_count": 1,
   "metadata": {},
   "outputs": [
    {
     "name": "stdout",
     "output_type": "stream",
     "text": [
      "str\n"
     ]
    }
   ],
   "source": [
    "print(\"Hello world\".__class__.__name__)"
   ]
  },
  {
   "cell_type": "markdown",
   "metadata": {},
   "source": [
    "#### Task 1.1: Abstract Base Class\n",
    "\n",
    "This class appears to do very little, but there are two things to notice:\n",
    "\n",
    "1. It provides a constructor (`__init__`) that sets the `shape_type` to the name of the class automatically (so a `square` object has `shape_type='Square'`) and it stores the critical dimension of the shape in `self.dim`.\n",
    "2. It provides methods (which only raise exceptions) that will allow one shape to be used in the place of any other shape that inherits from `shape`."
   ]
  },
  {
   "cell_type": "code",
   "execution_count": 2,
   "metadata": {},
   "outputs": [],
   "source": [
    "from math import pi\n",
    "\n",
    "# Base class shape\n",
    "class shape(object): # Inherit from base class \n",
    "    def __init__(self, dimension:float=None):\n",
    "        self.shape_type = self.__class__.__name__.capitalize()\n",
    "        self.dim = dimension\n",
    "        return\n",
    "    \n",
    "    def diameter(self):\n",
    "        raise Exception(\"Unimplmented method error.\")\n",
    "    \n",
    "    def volume(self):\n",
    "        raise Exception(\"Unimplmented method error.\")\n",
    "    \n",
    "    def surface(self):\n",
    "        raise Exception(\"Unimplmented method error.\")\n",
    "        \n",
    "    def type(self):\n",
    "        return(self.shape_type)"
   ]
  },
  {
   "cell_type": "markdown",
   "metadata": {},
   "source": [
    "#### Task 1.2: Cube\n",
    "\n",
    "Implements a cube:\n",
    "\n",
    "1. The diameter of the cube is given by the Pythagorean formula for the length of the hypotenuse in 3D between opposing corners: $\\sqrt{d^{2} + d^{2} + d^{2}}$ which we can reduce to $\\sqrt{3 d^{2}}$.\n",
    "2. A cube's volume is given by $d^{3}$.\n",
    "3. A cube's surface area will be the sum of its six faces: $6d^{2}$."
   ]
  },
  {
   "cell_type": "code",
   "execution_count": 8,
   "metadata": {},
   "outputs": [],
   "source": [
    "# Cube class\n",
    "class cube(shape): # Inherit from shape \n",
    "    def __init__(self, dim:float):\n",
    "        super().__init__(dim)\n",
    "        return\n",
    "    \n",
    "    def diameter(self):\n",
    "        return (3 * self.dim**2)**(1/2)\n",
    "    \n",
    "    def volume(self):\n",
    "        return self.dim**3\n",
    "    \n",
    "    def surface(self):\n",
    "        return 6*(self.dim**2)"
   ]
  },
  {
   "cell_type": "markdown",
   "metadata": {},
   "source": [
    "#### Task 1.3: Sphere\n",
    "\n",
    "Implements a sphere:\n",
    "\n",
    "1. The diameter is twice the critical dimension (radius): $2d$. \n",
    "2. The volume is $\\frac{4}{3} \\pi r^{3}$.\n",
    "3. The surface area will be $4 \\pi r^{2}$.\n",
    "\n",
    "If we were writing something more general, we'd probably have spheres as a special case of an ellipsoid!"
   ]
  },
  {
   "cell_type": "code",
   "execution_count": 4,
   "metadata": {},
   "outputs": [],
   "source": [
    "# Sphere class\n",
    "class sphere(shape): # Inherit from shape \n",
    "    def __init__(self, dim:float):\n",
    "        super().__init__(dim)\n",
    "        return\n",
    "    \n",
    "    def diameter(self):\n",
    "        return self.dim*2\n",
    "    \n",
    "    def volume(self):\n",
    "        return (4/3) * pi * self.dim**3\n",
    "    \n",
    "    def surface(self):\n",
    "        return 4 * pi * (self.dim**2)"
   ]
  },
  {
   "cell_type": "markdown",
   "metadata": {},
   "source": [
    "#### Task 1.4: Regular Pyramid\n",
    "\n",
    "We're taking this to be a regular pyramid where all sides are equal: \n",
    "\n",
    "1. The diameter is a line drawn across the base between opposing corners of the base so it's just $\\sqrt{d^{2} + d^{2}}$.\n",
    "2. The volume is given by $V = b * h / 3$ (where $b$ is the area of the base, which in this case becomes $d^{2} * h/3$).\n",
    "3. The surface area will be the base + 4 equilateral triangles: $d^{2} + 4 (d^{2}\\sqrt{3}/4)$ which we can reduce to $d^{2} + d^{2}\\sqrt{3}$\n",
    "\n",
    "But this requires a _height_ method that is specific to pyramids:\n",
    "\n",
    "4. The height is taken from the centre of the pyramid (which will be half the length of the hypotenuse for two edges): $l = \\sqrt{d{^2} + d^{2}}$ and the long side ($d$ again) which gives us $\\sqrt{l/2 + d^{2}}$.\n",
    "\n",
    "Note that this has a class variable called `has_mummies` since Egyptian regular pyramids are plagued by them! "
   ]
  },
  {
   "cell_type": "code",
   "execution_count": 5,
   "metadata": {},
   "outputs": [],
   "source": [
    "# Pyramid class\n",
    "class pyramid(shape): # Inherit from shape\n",
    "    \n",
    "    has_mummies = True # This is for *all* regular pyramids\n",
    "    \n",
    "    def __init__(self, dim:float):\n",
    "        super().__init__(dim)\n",
    "        self.shape_type = 'Regular Pyramid'\n",
    "        return\n",
    "    \n",
    "    def diameter(self):\n",
    "        return (self.dim**2 + self.dim**2)**(1/2)\n",
    "    \n",
    "    def height(self):\n",
    "        return (self.diameter()/2 + self.dim**2)**(1/2)\n",
    "    \n",
    "    def volume(self):\n",
    "        return self.dim**2 * self.height() / 3\n",
    "    \n",
    "    def surface(self):\n",
    "        return self.dim**2 + self.dim**2 * 3**(1/2)"
   ]
  },
  {
   "cell_type": "markdown",
   "metadata": {},
   "source": [
    "#### Task 1.5: Triangular Pyramid\n",
    "\n",
    "We want triangular pyramid to inherit from regular pyramid, and all sides are equal so it's an _equilateral_ triangular pyramid. However, this is kind of a judgement call since there's very little shared between the two types of pyramid and it's arguable whether this one is actually simpler and should therefore be the parent class...\n",
    "\n",
    "Anyway, the calculations are:\n",
    "\n",
    "1. The diameter (longest line through the shape) will just be the edge: $d$.\n",
    "2. The volume $V = b * h / 3$ where $b$ is the area of an equilateral triangle.\n",
    "3. The surface area will be $4b$ where $b$ is the area of an equilateral triangle.\n",
    "\n",
    "So we now need two new formulas:\n",
    "\n",
    "5. The height of the pyramid using ([Pythagoras again](https://www.youtube.com/watch?v=ivF3ndmkMsE)): $h = \\sqrt{6}d/3$.\n",
    "6. The area of an equilateral triangle: $\\frac{\\sqrt{3}}{4} d^{2}$"
   ]
  },
  {
   "cell_type": "code",
   "execution_count": 6,
   "metadata": {},
   "outputs": [],
   "source": [
    "# Triangular Pyramid class\n",
    "class t_pyramid(pyramid): # Inherit from regular pyramid\n",
    "    \n",
    "    has_mummies = False # This is for all triangular pyramids\n",
    "    \n",
    "    def __init__(self, dim:float):\n",
    "        super().__init__(dim)\n",
    "        self.shape_type = 'Triangular Pyramid'\n",
    "        return\n",
    "    \n",
    "    def diameter(self):\n",
    "        return self.dim\n",
    "    \n",
    "    def height(self):\n",
    "        # h = sqrt(6)/3 * d\n",
    "        return 6**(1/2)/3 * self.dim\n",
    "    \n",
    "    def base(self):\n",
    "        return 3**(1/2)/4 * self.dim**2\n",
    "    \n",
    "    def volume(self):\n",
    "        return (1/3) * self.base() * self.height()\n",
    "    \n",
    "    def surface(self):\n",
    "        return 4 * self.base()"
   ]
  },
  {
   "cell_type": "code",
   "execution_count": 9,
   "metadata": {},
   "outputs": [
    {
     "name": "stdout",
     "output_type": "stream",
     "text": [
      "Sphere\n",
      "\tVolume is: 4188.79\n",
      "\tDiameter is: 20.00\n",
      "\tSurface Area is: 1256.64\n",
      "\n",
      "Cube\n",
      "\tVolume is: 1000.00\n",
      "\tDiameter is: 17.32\n",
      "\tSurface Area is: 600.00\n",
      "\n",
      "Regular Pyramid\n",
      "\tVolume is: 344.92\n",
      "\tDiameter is: 14.14\n",
      "\tSurface Area is: 273.21\n",
      "\tHeight is: 10.35\n",
      "\tMummies? Aaaaaaaaagh!\n",
      "\n",
      "Triangular Pyramid\n",
      "\tVolume is: 117.85\n",
      "\tDiameter is: 10.00\n",
      "\tSurface Area is: 173.21\n",
      "\tHeight is:  8.16\n",
      "\tPhew, no mummies!\n",
      "\n",
      "Shape of type 'Triangular Pyramid' does *not* have attribute or method 'base_area'\n",
      "\n"
     ]
    }
   ],
   "source": [
    "# How would you test these changes?\n",
    "s = sphere(10)\n",
    "print(s.type())\n",
    "print(f\"\\tVolume is: {s.volume():5.2f}\")\n",
    "print(f\"\\tDiameter is: {s.diameter():5.2f}\")\n",
    "print(f\"\\tSurface Area is: {s.surface():5.2f}\")\n",
    "print(\"\")\n",
    "\n",
    "c = cube(10)\n",
    "print(c.type())\n",
    "print(f\"\\tVolume is: {c.volume():5.2f}\")\n",
    "print(f\"\\tDiameter is: {c.diameter():5.2f}\")\n",
    "print(f\"\\tSurface Area is: {c.surface():5.2f}\")\n",
    "print(\"\")\n",
    "\n",
    "p = pyramid(10)\n",
    "print(p.type())\n",
    "print(f\"\\tVolume is: {p.volume():5.2f}\")\n",
    "print(f\"\\tDiameter is: {p.diameter():5.2f}\")\n",
    "print(f\"\\tSurface Area is: {p.surface():5.2f}\")\n",
    "print(f\"\\tHeight is: {p.height():5.2f}\")\n",
    "if p.has_mummies is True:\n",
    "    print(\"\\tMummies? Aaaaaaaaagh!\")\n",
    "else:\n",
    "    print(\"\\tPhew, no mummies!\")\n",
    "print(\"\")\n",
    "\n",
    "p2 = t_pyramid(10)\n",
    "print(p2.type())\n",
    "print(f\"\\tVolume is: {p2.volume():5.2f}\")\n",
    "print(f\"\\tDiameter is: {p2.diameter():5.2f}\")\n",
    "print(f\"\\tSurface Area is: {p2.surface():5.2f}\")\n",
    "print(f\"\\tHeight is: {p2.height():5.2f}\")\n",
    "if p2.has_mummies is True:\n",
    "    print(\"\\tMummies? Aaaaaaaaagh!\")\n",
    "else:\n",
    "    print(\"\\tPhew, no mummies!\")\n",
    "print(\"\")\n",
    "\n",
    "# Useful demonstration of how to find out if a method or attribute is\n",
    "# associated with a particular object\n",
    "if hasattr(p2,'base_area'):\n",
    "    print(f\"Shape of type '{p2.type()}' has attribute or method 'base_area'\")\n",
    "else:\n",
    "    print(f\"Shape of type '{p2.type()}' does *not* have attribute or method 'base_area'\")\n",
    "print(\"\")"
   ]
  },
  {
   "cell_type": "code",
   "execution_count": 10,
   "metadata": {},
   "outputs": [
    {
     "name": "stdout",
     "output_type": "stream",
     "text": [
      "<class '__main__.t_pyramid'>\n",
      "(<class '__main__.t_pyramid'>, <class '__main__.pyramid'>, <class '__main__.shape'>, <class 'object'>)\n"
     ]
    }
   ],
   "source": [
    "print(p2.__class__)\n",
    "print(p2.__class__.__mro__)"
   ]
  },
  {
   "cell_type": "markdown",
   "metadata": {},
   "source": [
    "## Task 2: Packaging\n",
    "\n",
    "Now that we've created our classes, we want to move them to a separate file that can be imported and re-used by code elsewhere. We need to turn this into a _package_. Formally packaging things up for distribution requires a lot more work(see [this](https://python-packaging-tutorial.readthedocs.io/en/latest/setup_py.html) and [this](https://packaging.python.org/tutorials/packaging-projects/)). But for something that we're only going to use ourselves it's _basically_ as simple as:\n",
    "\n",
    "1. Create a directory that will become the package name (_e.g._ `shapes`).\n",
    "2. Write the code in a file called `__init.py__` inside that new directory (_i.e._ `./shapes/__init__.py`).\n",
    "\n",
    "We could do this by hand by copy-pasting each cell above into a new file, but because we prefer to be lazy let's try automating it..."
   ]
  },
  {
   "cell_type": "markdown",
   "metadata": {},
   "source": [
    "#### Shell Commands\n",
    "\n",
    "First, we need to create the `shapes` directory. To do this, although you _can_ use Python code to create and delete files and folders, it's helpful to know that you can actually execute shell commands directly from a notebook. Oviously, the degree to which this works depends on which Operating System you're using!\n",
    "\n",
    "For instance, here's our trusty _list_ command:"
   ]
  },
  {
   "cell_type": "code",
   "execution_count": 11,
   "metadata": {},
   "outputs": [
    {
     "name": "stdout",
     "output_type": "stream",
     "text": [
      "Live-02-Foundations_1.ipynb  Live-04-Objects.ipynb  utils\n",
      "Live-03-Foundations_2.ipynb  Live-05-Pandas.ipynb\n",
      "Live-04-Objects-1.ipynb      shapes\n"
     ]
    }
   ],
   "source": [
    "!ls"
   ]
  },
  {
   "cell_type": "markdown",
   "metadata": {},
   "source": [
    "So we can simply ask `mkdir` (make directory) to do this for us. The `-p` means that it creates directory hierarhices if they're missing and doesn't complain if a directory already exists."
   ]
  },
  {
   "cell_type": "code",
   "execution_count": 12,
   "metadata": {},
   "outputs": [],
   "source": [
    "!mkdir -p shapes"
   ]
  },
  {
   "cell_type": "markdown",
   "metadata": {},
   "source": [
    "#### Notebook Convert\n",
    "\n",
    "It turns out that `jupyter` also offers a `nbconvert` (Notebook Convert) utility that helps you to convert notebooks to other formats including HTML, LaTeX, PDF, Markdown, Executable Python and so on! We're going to take advantage of the fact that `__init__.py` is just plain old python following a particular naming and placement scheme...\n",
    "\n",
    "<div style=\"border: dotted 1px green; padding: 10px; margin: 5px; background-color: rgb(249,255,249);\"><i><b>Major Hint:</b></i> you're going to want this for the final assessment and possibly for the second assessment as well!</div>"
   ]
  },
  {
   "cell_type": "code",
   "execution_count": 3,
   "metadata": {},
   "outputs": [
    {
     "name": "stdout",
     "output_type": "stream",
     "text": [
      "[NbConvertApp] Converting notebook Live-04-Objects-1.ipynb to python\n",
      "[NbConvertApp] Writing 11962 bytes to shapes/__init__.py\n"
     ]
    }
   ],
   "source": [
    "!jupyter nbconvert --ClearOutputPreprocessor.enabled=True \\\n",
    "    --to python --output=shapes/__init__.py \\\n",
    "    Live-04-Objects-1.ipynb"
   ]
  },
  {
   "cell_type": "markdown",
   "metadata": {},
   "source": [
    "#### Tidying Up the Output\n",
    "\n",
    "Using the file browser provided by Jupyter Lab (on the left), open up the new `__init__.py` file created in the `shapes` directory. You will want (at the very least) to search for 'Task 2' and delete everything in the file after that point.\n",
    "\n",
    "<div style=\"border: dotted 1px rgb(156,121,26); padding: 10px; margin: 5px; background-color: rgb(255,236,184)\"><i><b>Really Important</b></i>: if you do <i>not</i> delete everything from <tt>Task 2: Packaging</tt> onwards then every time you try to (re)load the shapes you will also output another copy of this notebook because <i>this</i> code is also outputted by <tt>nbconvert</tt>. In fact, you might find it easier to search for the line \"How would you test these changes?\" and delete everything from <i>there</i> onwards in the file.</div>"
   ]
  },
  {
   "cell_type": "markdown",
   "metadata": {},
   "source": [
    "#### Autoreload Cell Magic\n",
    "\n",
    "When writing a _new_ package from a notebook, you need to ensure that Python knows to reload the package _every time_ you run the code. Otherwise, Python will keep running the version of the package that you loaded when you first ran `import <package name>`!\n",
    "\n",
    "This the first time you'll have seen this special type of code block: `%` at the start of a line in a codeblock indicates that a '[magic command](https://ipython.readthedocs.io/en/stable/interactive/magics.html)' is being issued. `autoreload` is one such magic command. There is also the `!` at the start of a line which indicates a shell command to be executed (e.g. `!ls`)."
   ]
  },
  {
   "cell_type": "code",
   "execution_count": 4,
   "metadata": {},
   "outputs": [
    {
     "name": "stdout",
     "output_type": "stream",
     "text": [
      "The autoreload extension is already loaded. To reload it, use:\n",
      "  %reload_ext autoreload\n"
     ]
    }
   ],
   "source": [
    "%load_ext autoreload\n",
    "%autoreload 2"
   ]
  },
  {
   "cell_type": "code",
   "execution_count": 5,
   "metadata": {},
   "outputs": [],
   "source": [
    "import shapes"
   ]
  },
  {
   "cell_type": "code",
   "execution_count": 8,
   "metadata": {},
   "outputs": [],
   "source": [
    "b = shapes.cube(10)"
   ]
  },
  {
   "cell_type": "code",
   "execution_count": 9,
   "metadata": {},
   "outputs": [
    {
     "name": "stdout",
     "output_type": "stream",
     "text": [
      "<shapes.cube object at 0x7fa7346b63d0>\n",
      "1000\n",
      "17.320508075688775\n",
      "600\n"
     ]
    },
    {
     "data": {
      "text/plain": [
       "['__class__',\n",
       " '__delattr__',\n",
       " '__dict__',\n",
       " '__dir__',\n",
       " '__doc__',\n",
       " '__eq__',\n",
       " '__format__',\n",
       " '__ge__',\n",
       " '__getattribute__',\n",
       " '__gt__',\n",
       " '__hash__',\n",
       " '__init__',\n",
       " '__init_subclass__',\n",
       " '__le__',\n",
       " '__lt__',\n",
       " '__module__',\n",
       " '__ne__',\n",
       " '__new__',\n",
       " '__reduce__',\n",
       " '__reduce_ex__',\n",
       " '__repr__',\n",
       " '__setattr__',\n",
       " '__sizeof__',\n",
       " '__str__',\n",
       " '__subclasshook__',\n",
       " '__weakref__',\n",
       " 'diameter',\n",
       " 'dim',\n",
       " 'shape_type',\n",
       " 'surface',\n",
       " 'type',\n",
       " 'volume']"
      ]
     },
     "execution_count": 9,
     "metadata": {},
     "output_type": "execute_result"
    }
   ],
   "source": [
    "print(b)\n",
    "print(b.volume())\n",
    "print(b.diameter())\n",
    "print(b.surface())\n",
    "dir(b)"
   ]
  },
  {
   "cell_type": "code",
   "execution_count": 11,
   "metadata": {},
   "outputs": [
    {
     "name": "stdout",
     "output_type": "stream",
     "text": [
      "150\n",
      "122.47448713915888\n",
      "397747.5644174329\n",
      "38971.143170299736\n"
     ]
    }
   ],
   "source": [
    "p = shapes.t_pyramid(150)\n",
    "print(p.diameter())\n",
    "print(p.height())\n",
    "print(p.volume())\n",
    "print(p.surface())"
   ]
  },
  {
   "cell_type": "markdown",
   "metadata": {},
   "source": [
    "## Adding Documentation\n",
    "\n",
    "In an ideal world, this would also be the time to properly document your classes and methods. Here as some examples that you could add to the `__init__.py` package file."
   ]
  },
  {
   "cell_type": "markdown",
   "metadata": {},
   "source": [
    "Underneath the line `class shape(object):`, add:\n",
    "```\n",
    "    \"\"\"Abstract base class for all ideal shape classes.\n",
    "\n",
    "    Keyword arguments:\n",
    "    dimension -- the principle dimension of the shape (default None)\n",
    "    \"\"\"\n",
    "```\n",
    "\n",
    "Underneath the line `def type(self):`, add:\n",
    "```\n",
    "        \"\"\"\n",
    "        Returns the formatted name of the shape type. \n",
    "        \n",
    "        This is set automatically, but can be overwritten by setting the attribute shape_type.\n",
    "        \n",
    "        :returns: the name of the class, so shapes.cube is a `Cube` shape type\n",
    "        :rtype: str\n",
    "        \"\"\"\n",
    "```"
   ]
  },
  {
   "cell_type": "code",
   "execution_count": 14,
   "metadata": {},
   "outputs": [
    {
     "name": "stdout",
     "output_type": "stream",
     "text": [
      "Help on function type in module shapes:\n",
      "\n",
      "type(self)\n",
      "    Returns the formatted name of the shape type. \n",
      "    \n",
      "    This is set automatically, but can be overwritten by setting self.shape_type.\n",
      "    \n",
      "    :returns: the name of the class, so shapes.cube is a `Cube` shape type\n",
      "    :rtype: str\n",
      "\n"
     ]
    }
   ],
   "source": [
    "import shapes\n",
    "help(shapes.shape)\n",
    "help(shapes.shape.type)"
   ]
  }
 ],
 "metadata": {
  "kernelspec": {
   "display_name": "Python 3",
   "language": "python",
   "name": "python3"
  },
  "language_info": {
   "codemirror_mode": {
    "name": "ipython",
    "version": 3
   },
   "file_extension": ".py",
   "mimetype": "text/x-python",
   "name": "python",
   "nbconvert_exporter": "python",
   "pygments_lexer": "ipython3",
   "version": "3.7.8"
  }
 },
 "nbformat": 4,
 "nbformat_minor": 4
}
