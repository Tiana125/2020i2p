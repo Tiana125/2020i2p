{
 "cells": [
  {
   "cell_type": "markdown",
   "metadata": {},
   "source": [
    "<div style=\"float:left\">\n",
    "    <h1 style=\"width:450px\">Practical 4: Object-Oriented Programming</h1>\n",
    "    <h2 style=\"width:450px\">Getting to grips with Packages, Classes &amp; Objects</h2>\n",
    "</div>\n",
    "<div style=\"float:right\"><img width=\"100\" src=\"https://github.com/jreades/i2p/raw/master/img/casa_logo.jpg\" /></div>"
   ]
  },
  {
   "cell_type": "markdown",
   "metadata": {},
   "source": [
    "<div style=\"border: dotted 1px rgb(156,121,26); padding: 10px; margin: 5px; background-color: rgb(255,236,184); color: rgb(156,121,26)\"><i>Note</i>: You should <a href=\"https://github.com/jreades/i2p/raw/master/practicals/Practical-04-Objects.ipynb\">download this notebook from GitHub</a> and then save it to your own copy of the repository. I'd suggest adding it (<tt>git add Practical-04-...</tt>) right away and then committing (<tt>git commit -m \"Some message\"</tt>). Do this again at the end of the class and you'll have a record of everything you did, then you can <tt>git push</tt> it to GitHub.</div>"
   ]
  },
  {
   "cell_type": "markdown",
   "metadata": {},
   "source": [
    "## Task 1\n",
    "\n",
    "Thinking it through. Let's imagine that we're setting up, say, a web site that allows you to search for properties that match a set of criteria and we've been asked to represent these properties as _objects_ so that someone searching for a specific type of property--or a property with a specific set of features--can find what they are looking for. We've been told that the listings can be found in an online file and are then asked to put together code to allow someone to look for properties in that file.[<sup>1</sup>](#fn1)"
   ]
  },
  {
   "cell_type": "markdown",
   "metadata": {},
   "source": [
    "<span id=\"fn1\"><sup>1</sup> To be fair, this is not how such things would ordinarily be done!</span>"
   ]
  },
  {
   "cell_type": "markdown",
   "metadata": {},
   "source": [
    "#### Task 1.1\n",
    "\n",
    "First, let's be sensibly lazy--we've already written code to read a file ([2020-08-24-sample-listings.csv](https://github.com/jreades/i2p/raw/master/data/2020-08-24-sample-listings.csv)) from the Internet and turn it into a list of lists. Copy+paste that in the code block since we're going to start from this point."
   ]
  },
  {
   "cell_type": "code",
   "execution_count": 1,
   "metadata": {},
   "outputs": [
    {
     "name": "stdout",
     "output_type": "stream",
     "text": [
      "urlData has 101 rows and 26 columns.\n",
      "['40373464', 'Modern, Small Double Private Room', \"A lovely cosy private room with a small double bed available in the heart of Battersea. This is the place to stay if you're looking for a clean, modern & stylish room. Located only 7 minutes walk from Clapham Junction and situated on a quiet residential development. <br />Perfect place to stay if you want to explore the city or just need to be well connected for work. Everything has been designed for your convenience without compromising on style.<br /><br /><b>The space</b><br />Bedroom includes : <br />- Comfy small double bed<br />- Desk & chair<br />- Clothes rail<br />- Large windows and lots of natural light<br />- Egyptian cotton towels<br />- Hairdryer <br /><br />Bathroom:<br />- Shower gel<br />- Shampoo & conditioner <br /><br />Kitchen: <br />- All kitchen appliances <br />- Tea/coffee/sugar<br />- Snacks<br />- Iron & ironing board <br />- Washing powder<br /><br /><b>Guest access</b><br />Guests have access to the kitchen, toilet on the ground floor, bathroom on the 1st f\", '139052118', 'Leon', '2017-07-07', '51.46497', '-0.17807', 'Private room in apartment', 'Private room', '1', '', '1.0', '1.0', '$38.00', '1', '1125', '0', '0', '0', '0', '4', '2019-12-02', '2019-12-29', '95.0', '6']\n"
     ]
    }
   ],
   "source": [
    "from urllib.request import urlopen\n",
    "import csv\n",
    "\n",
    "url = \"https://github.com/jreades/i2p/raw/master/data/2020-08-24-sample-listings.csv\"\n",
    "\n",
    "urlData = [] # Somewhere to store the data\n",
    "\n",
    "response = urlopen(url) # Get the data using the urlopen function\n",
    "csvfile  = csv.reader(response.read().decode('utf-8').splitlines()) # Pass it over to the reader function\n",
    "\n",
    "for row in csvfile:              \n",
    "    urlData.append( row )\n",
    "\n",
    "print(\"urlData has \" + str(len(urlData)) + \" rows and \" + str(len(urlData[0])) + \" columns.\")\n",
    "print(urlData[-1]) # Check it worked!"
   ]
  },
  {
   "cell_type": "markdown",
   "metadata": {},
   "source": [
    "You should get `urlData has 101 rows and 26 columns.` and a row that looks like this: `['40373464', 'Modern, Small Double Private Room',..., '6']`."
   ]
  },
  {
   "cell_type": "markdown",
   "metadata": {},
   "source": [
    "#### Task 1.2\n",
    "\n",
    "In order to make any sense of this, we need to inspect the header for the file. Print this out here:"
   ]
  },
  {
   "cell_type": "code",
   "execution_count": 2,
   "metadata": {},
   "outputs": [
    {
     "name": "stdout",
     "output_type": "stream",
     "text": [
      "['id', 'name', 'description', 'host_id', 'host_name', 'host_since', 'latitude', 'longitude', 'property_type', 'room_type', 'accommodates', 'bathrooms', 'bedrooms', 'beds', 'price', 'minimum_nights', 'maximum_nights', 'availability_30', 'availability_60', 'availability_90', 'availability_365', 'number_of_reviews', 'first_review', 'last_review', 'review_scores_rating', 'calculated_host_listings_count']\n"
     ]
    }
   ],
   "source": [
    "print(urlData[0])"
   ]
  },
  {
   "cell_type": "markdown",
   "metadata": {},
   "source": []
  }
 ],
 "metadata": {
  "kernelspec": {
   "display_name": "Python 3",
   "language": "python",
   "name": "python3"
  },
  "language_info": {
   "codemirror_mode": {
    "name": "ipython",
    "version": 3
   },
   "file_extension": ".py",
   "mimetype": "text/x-python",
   "name": "python",
   "nbconvert_exporter": "python",
   "pygments_lexer": "ipython3",
   "version": "3.7.8"
  }
 },
 "nbformat": 4,
 "nbformat_minor": 4
}
