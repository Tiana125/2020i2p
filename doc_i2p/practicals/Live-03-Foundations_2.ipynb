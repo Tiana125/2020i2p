{
 "cells": [
  {
   "cell_type": "markdown",
   "metadata": {},
   "source": [
    "<div style=\"float:left\">\n",
    "    <h1 style=\"width:450px\">Live Coding 3: Foundations (Part 2)</h1>\n",
    "    <h2 style=\"width:450px\">Getting to grips with Dictionaries, LOLs and DOLs, Packages and Functions</h2>\n",
    "</div>\n",
    "<div style=\"float:right\"><img width=\"100\" src=\"https://github.com/jreades/i2p/raw/master/img/casa_logo.jpg\" /></div>"
   ]
  },
  {
   "cell_type": "markdown",
   "metadata": {},
   "source": [
    "## Task 1: Reading a Remote File"
   ]
  },
  {
   "cell_type": "markdown",
   "metadata": {},
   "source": [
    "#### Task 1.1: Research Solution\n",
    "\n",
    "- Google: [read remote CSV file Python](https://www.google.com/search?q=read+remote+csv+file+python&rlz=1C5CHFA_enGB917GB917&oq=read+remote+csv+&aqs=chrome.0.0j69i57j0l5j69i64.3752j0j7&sourceid=chrome&ie=UTF-8)\n",
    "- Oooh look, [Stack Overflow link](https://stackoverflow.com/questions/16283799/how-to-read-a-csv-file-from-a-url-with-python)\n",
    "- Let's review this--note: Python2 vs Python3\n",
    "  - Look at dates on answers to see if reasonably useful\n",
    "  - Read responses to what looks like useful answer\n",
    "  - Which answer was accepted?\n",
    "- OK, so it looks like `urllib` and `csv` will be useful.\n",
    "  - How do we work out what's possible?\n",
    "  - How do we read help for a function?"
   ]
  },
  {
   "cell_type": "code",
   "execution_count": 1,
   "metadata": {},
   "outputs": [],
   "source": [
    "from urllib.request import urlopen\n",
    "?urlopen"
   ]
  },
  {
   "cell_type": "markdown",
   "metadata": {},
   "source": [
    "#### Task 1.2: Implementing Solution\n",
    "\n",
    "OK, so now we know what to do, how do we do it?\n",
    "\n",
    "- Set a `url` variable\n",
    "- Capture the response\n",
    "- Read it, what's the decoding thing?\n",
    "- Look at the '.' cropping up: we'll deal with that later."
   ]
  },
  {
   "cell_type": "code",
   "execution_count": 2,
   "metadata": {},
   "outputs": [
    {
     "name": "stdout",
     "output_type": "stream",
     "text": [
      "datafile variable is of type: 'str'.\n",
      "\n"
     ]
    }
   ],
   "source": [
    "from urllib.request import urlopen\n",
    "\n",
    "# Given the info you were given above, what do you \n",
    "# think the value of 'url' should be? What\n",
    "# type of variable is it? int or string? \n",
    "url = 'https://github.com/jreades/i2p/raw/master/data/src/2019-sample-Crime.csv'\n",
    "\n",
    "# Read the URL stream into variable called 'response'\n",
    "# using the function that we imported above\n",
    "response = urlopen(url)\n",
    "\n",
    "# Now read from the stream, decoding so that we get actual text\n",
    "datafile = response.read().decode('utf-8')\n",
    "\n",
    "# You might want to explore what `__class__` and `__name__`\n",
    "# offer, but basically the give us a way of finding out what\n",
    "# is 'behind' more complex variables\n",
    "print(\"datafile variable is of type: '\" + datafile.__class__.__name__ + \"'.\\n\")"
   ]
  },
  {
   "cell_type": "markdown",
   "metadata": {},
   "source": [
    "#### Task 1.3: Checking Solution \n",
    "\n",
    "It's tempting to just print out the contents of datafile, but what should we do?\n",
    "- Print out the size of the variable (how do we do this for a string?)\n",
    "- Print out some of the top of the file (how do we do this for the first _n_ chars in a string?)"
   ]
  },
  {
   "cell_type": "code",
   "execution_count": 3,
   "metadata": {},
   "outputs": [
    {
     "name": "stdout",
     "output_type": "stream",
     "text": [
      "12944\n",
      "ID,Case Number,Date,Primary Type,Description,Location Description,Arrest,Domestic,Year,Latitude,Longitude\n",
      "11667185,JC237601,04/20/2019 11:00:00 PM,BURGLARY,FORCIBLE ENTRY,COMMERCIAL / BUSINESS OFFICE,False,False,2019,41.751307057,-87.60346764\n",
      "11909178,JC532226,12/02/2019 10:35:00 AM,DECEPTIVE PRACTICE,FRAUD OR CONFIDENCE GAME,GROCERY FOOD STORE,False,False,2019,41.903996883000005,-87.64323023799999\n",
      "11852571,JC462365,10/06/2019 04:50:00 PM,BATTERY,AGGRAVATED DOMESTIC BATTERY - OTHER DANGEROUS WEAPON,CLEANING STORE,True,True,2019,41.880328606,-87.758473298\n",
      "11804855,JC405161,08/23/2019 10:00:00 P\n"
     ]
    }
   ],
   "source": [
    "print(len(datafile))\n",
    "print(datafile[:600])"
   ]
  },
  {
   "cell_type": "markdown",
   "metadata": {},
   "source": [
    "## Task 2: Parsing a CSV file using a Package"
   ]
  },
  {
   "cell_type": "markdown",
   "metadata": {},
   "source": [
    "Right, so we've got our data in `datafile`, what are we going to do with it now?"
   ]
  },
  {
   "cell_type": "markdown",
   "metadata": {},
   "source": [
    "#### Task 2.1: Research Solution\n",
    "- We need to turn it into data by reading the CSV\n",
    "  - Google [what to do](https://www.google.com/search?q=read+csv+file+python&rlz=1C5CHFA_enGB917GB917&oq=read+csv+file+&aqs=chrome.1.69i57j0l6j69i60.3231j0j7&sourceid=chrome&ie=UTF-8)\n",
    "  - Hmmm, [this looks useful](https://docs.python.org/3/library/csv.html), \n",
    "  - Maybe also try [read csv file python example](https://www.google.com/search?rlz=1C5CHFA_enGB917GB917&sxsrf=ALeKk01BVGKqVxUdb0YycI7g2M_nvXIRfA%3A1602420552942&ei=SP-CX_HZONeR1fAPiOuEqA4&q=read+csv+file+python+example&oq=read+csv+file+python+exa&gs_lcp=CgZwc3ktYWIQAxgAMgUIABDJAzIGCAAQFhAeMgYIABAWEB4yBggAEBYQHjoECAAQRzoHCAAQyQMQQzoECAAQQzoCCABQ_AhYwAxg8BZoAHACeACAAV-IAdACkgEBNJgBAKABAaoBB2d3cy13aXrIAQjAAQE&sclient=psy-ab)\n",
    "- OK, so it looks like we need to `splitlines` first.\n",
    "- Then let's read it into a list (What data structure is this?)\n",
    "- Now, how would we print out the number of rows and columns?"
   ]
  },
  {
   "cell_type": "code",
   "execution_count": 4,
   "metadata": {},
   "outputs": [
    {
     "name": "stdout",
     "output_type": "stream",
     "text": [
      "urlData has 101 rows and 11 columns.\n"
     ]
    }
   ],
   "source": [
    "import csv \n",
    "\n",
    "urlData = [] # Somewhere to store the data\n",
    "\n",
    "csvfile = csv.reader(datafile.splitlines())\n",
    "\n",
    "for row in csvfile:              \n",
    "    urlData.append( row )\n",
    "\n",
    "print(f\"urlData has {len(urlData)} rows and {len(urlData[0])} columns.\")"
   ]
  },
  {
   "cell_type": "markdown",
   "metadata": {},
   "source": [
    "#### Task 2.2: Selecting a Sample Row\n",
    "\n",
    "How could we print out a random row? Let's Google it.\n",
    "- Library random seems promising\n",
    "- Which function do we want?"
   ]
  },
  {
   "cell_type": "code",
   "execution_count": 33,
   "metadata": {},
   "outputs": [],
   "source": [
    "import random\n",
    "#dir(random)\n",
    "#help(random.randint)"
   ]
  },
  {
   "cell_type": "code",
   "execution_count": 34,
   "metadata": {},
   "outputs": [
    {
     "data": {
      "text/plain": [
       "['11602078',\n",
       " 'JC159813',\n",
       " '02/20/2019 06:55:00 PM',\n",
       " 'THEFT',\n",
       " 'RETAIL THEFT',\n",
       " 'SMALL RETAIL STORE',\n",
       " 'True',\n",
       " 'False',\n",
       " '2019',\n",
       " '41.94044868',\n",
       " '-87.651081589']"
      ]
     },
     "execution_count": 34,
     "metadata": {},
     "output_type": "execute_result"
    }
   ],
   "source": [
    "urlData[random.randint(1,len(urlData))]"
   ]
  },
  {
   "cell_type": "markdown",
   "metadata": {},
   "source": [
    "## Task 3: Reading File as Dictionary of Lists"
   ]
  },
  {
   "cell_type": "markdown",
   "metadata": {},
   "source": [
    "#### Task 3.1: Finding the Header Row\n",
    "\n",
    "Sometimes this is easy (it's the very first row in a CSV file), but often (especially with Excel data from, e.g., the Office for National Statistics) it's _not_. So here is where doing some quick, initial checks using `head` can be helpful."
   ]
  },
  {
   "cell_type": "code",
   "execution_count": 7,
   "metadata": {},
   "outputs": [
    {
     "data": {
      "text/plain": [
       "['ID',\n",
       " 'Case Number',\n",
       " 'Date',\n",
       " 'Primary Type',\n",
       " 'Description',\n",
       " 'Location Description',\n",
       " 'Arrest',\n",
       " 'Domestic',\n",
       " 'Year',\n",
       " 'Latitude',\n",
       " 'Longitude']"
      ]
     },
     "execution_count": 7,
     "metadata": {},
     "output_type": "execute_result"
    }
   ],
   "source": [
    "urlData[0]"
   ]
  },
  {
   "cell_type": "markdown",
   "metadata": {},
   "source": [
    "OK, some questions:\n",
    "- What does row 0 give us? Are these data, or something else?\n",
    "- If we were making a dictionary-of-lists, how would we use Row 0?\n",
    "- What do we need to do to set this up?"
   ]
  },
  {
   "cell_type": "markdown",
   "metadata": {},
   "source": [
    "#### Task 3.2: Creating a DOL from Data\n",
    "\n",
    "How would we use the header row to initialise our Dictionary-of-Lists."
   ]
  },
  {
   "cell_type": "code",
   "execution_count": 8,
   "metadata": {},
   "outputs": [],
   "source": [
    "ds = {}\n",
    "col_names = urlData[0]\n",
    "for c in col_names:\n",
    "    ds[c] = []"
   ]
  },
  {
   "cell_type": "markdown",
   "metadata": {},
   "source": [
    "Next...\n",
    "- How would we print out all of the column names?\n",
    "- How would we go about adding all of the data?\n",
    "- What kind of loop would this use?"
   ]
  },
  {
   "cell_type": "code",
   "execution_count": 9,
   "metadata": {},
   "outputs": [
    {
     "name": "stdout",
     "output_type": "stream",
     "text": [
      "dict_keys(['ID', 'Case Number', 'Date', 'Primary Type', 'Description', 'Location Description', 'Arrest', 'Domestic', 'Year', 'Latitude', 'Longitude'])\n"
     ]
    }
   ],
   "source": [
    "print(ds.keys())"
   ]
  },
  {
   "cell_type": "code",
   "execution_count": 10,
   "metadata": {},
   "outputs": [],
   "source": [
    "for r in urlData[1:len(urlData)]:\n",
    "    for c in range(0,len(col_names)):\n",
    "        ds[ col_names[c] ].append( r[c] )"
   ]
  },
  {
   "cell_type": "markdown",
   "metadata": {},
   "source": [
    "#### Task 3.3: Validating/Checking\n",
    "\n",
    "Let's check a few columns to see if the data makes sense!"
   ]
  },
  {
   "cell_type": "code",
   "execution_count": 11,
   "metadata": {},
   "outputs": [
    {
     "name": "stdout",
     "output_type": "stream",
     "text": [
      "['JC237601', 'JC532226', 'JC462365', 'JC405161', 'JC409088', 'JC340284', 'JC431308', 'JC388943', 'JC372325', 'JC374938', 'JC558223', 'JC203700', 'JC490206', 'JC290439', 'JC241440', 'JC161382', 'JC248827', 'JC402551', 'JC265303', 'JC227392']\n",
      "\n",
      "['BURGLARY', 'DECEPTIVE PRACTICE', 'BATTERY', 'THEFT', 'BATTERY', 'THEFT', 'NARCOTICS', 'THEFT', 'THEFT', 'CRIMINAL DAMAGE', 'ASSAULT', 'BURGLARY', 'CRIMINAL DAMAGE', 'OTHER OFFENSE', 'NARCOTICS', 'STALKING', 'DECEPTIVE PRACTICE', 'BATTERY', 'CRIMINAL DAMAGE', 'BATTERY']\n",
      "\n"
     ]
    }
   ],
   "source": [
    "print(ds['Case Number'][:20])\n",
    "print()\n",
    "print(ds['Primary Type'][:20])\n",
    "print()"
   ]
  },
  {
   "cell_type": "markdown",
   "metadata": {},
   "source": [
    "Actually, is there a better way to do this? Rather than printing each out in turn, could we do this as a loop?"
   ]
  },
  {
   "cell_type": "code",
   "execution_count": 12,
   "metadata": {},
   "outputs": [
    {
     "name": "stdout",
     "output_type": "stream",
     "text": [
      "['11667185', '11909178', '11852571', '11804855', '11808164']\n",
      "\n",
      "['JC237601', 'JC532226', 'JC462365', 'JC405161', 'JC409088']\n",
      "\n",
      "['04/20/2019 11:00:00 PM', '12/02/2019 10:35:00 AM', '10/06/2019 04:50:00 PM', '08/23/2019 10:00:00 PM', '08/26/2019 12:00:00 AM']\n",
      "\n",
      "['BURGLARY', 'DECEPTIVE PRACTICE', 'BATTERY', 'THEFT', 'BATTERY']\n",
      "\n",
      "['FORCIBLE ENTRY', 'FRAUD OR CONFIDENCE GAME', 'AGGRAVATED DOMESTIC BATTERY - OTHER DANGEROUS WEAPON', 'OVER $500', 'SIMPLE']\n",
      "\n",
      "['COMMERCIAL / BUSINESS OFFICE', 'GROCERY FOOD STORE', 'CLEANING STORE', 'STREET', 'ALLEY']\n",
      "\n",
      "['False', 'False', 'True', 'False', 'False']\n",
      "\n",
      "['False', 'False', 'True', 'False', 'False']\n",
      "\n",
      "['2019', '2019', '2019', '2019', '2019']\n",
      "\n",
      "['41.751307057', '41.903996883000005', '41.880328606', '41.924383963000004', '41.755797128000005']\n",
      "\n",
      "['-87.60346764', '-87.64323023799999', '-87.758473298', '-87.64144151299999', '-87.634426259']\n",
      "\n"
     ]
    }
   ],
   "source": [
    "for c in ds.keys():\n",
    "    print(ds[c][:5])\n",
    "    print()"
   ]
  },
  {
   "cell_type": "markdown",
   "metadata": {},
   "source": [
    "How would we improve this? What is it that we can't count on in dictionaries?"
   ]
  },
  {
   "cell_type": "code",
   "execution_count": 13,
   "metadata": {},
   "outputs": [
    {
     "name": "stdout",
     "output_type": "stream",
     "text": [
      "ID:\t['11667185', '11909178', '11852571', '11804855', '11808164']\n",
      "\n",
      "Case Number:\t['JC237601', 'JC532226', 'JC462365', 'JC405161', 'JC409088']\n",
      "\n",
      "Date:\t['04/20/2019 11:00:00 PM', '12/02/2019 10:35:00 AM', '10/06/2019 04:50:00 PM', '08/23/2019 10:00:00 PM', '08/26/2019 12:00:00 AM']\n",
      "\n",
      "Primary Type:\t['BURGLARY', 'DECEPTIVE PRACTICE', 'BATTERY', 'THEFT', 'BATTERY']\n",
      "\n",
      "Description:\t['FORCIBLE ENTRY', 'FRAUD OR CONFIDENCE GAME', 'AGGRAVATED DOMESTIC BATTERY - OTHER DANGEROUS WEAPON', 'OVER $500', 'SIMPLE']\n",
      "\n",
      "Location Description:\t['COMMERCIAL / BUSINESS OFFICE', 'GROCERY FOOD STORE', 'CLEANING STORE', 'STREET', 'ALLEY']\n",
      "\n",
      "Arrest:\t['False', 'False', 'True', 'False', 'False']\n",
      "\n",
      "Domestic:\t['False', 'False', 'True', 'False', 'False']\n",
      "\n",
      "Year:\t['2019', '2019', '2019', '2019', '2019']\n",
      "\n",
      "Latitude:\t['41.751307057', '41.903996883000005', '41.880328606', '41.924383963000004', '41.755797128000005']\n",
      "\n",
      "Longitude:\t['-87.60346764', '-87.64323023799999', '-87.758473298', '-87.64144151299999', '-87.634426259']\n",
      "\n"
     ]
    }
   ],
   "source": [
    "for c in ds.keys():\n",
    "    print(f\"{c}:\\t{ds[c][:5]}\")\n",
    "    print()"
   ]
  },
  {
   "cell_type": "markdown",
   "metadata": {},
   "source": [
    "## Task 4: Fixing Column Types\n",
    "\n",
    "OK, so we have a few columns that aren't really of the right type. We have date-time types in Python that we're not going to get stuck into now, but we also very obviously have numbers and booleans as well that we need to deal with!\n",
    "\n",
    "So how we would do this? The process for each float would be the same. The process for each int would be the same. The process for each boolean would be the same. Sounds like a good opportunity for a function!"
   ]
  },
  {
   "cell_type": "markdown",
   "metadata": {},
   "source": [
    "#### Task 4.1: What Type Am I?"
   ]
  },
  {
   "cell_type": "markdown",
   "metadata": {},
   "source": [
    "Given these data:\n",
    "```\n",
    "ID:\t['11667185', '11909178', '11852571', '11804855', '11808164']\n",
    "Case Number:\t['JC237601', 'JC532226', 'JC462365', 'JC405161', 'JC409088']\n",
    "Date:\t['04/20/2019 11:00:00 PM', '12/02/2019 10:35:00 AM', '10/06/2019 04:50:00 PM', '08/23/2019 10:00:00 PM', '08/26/2019 12:00:00 AM']\n",
    "Primary Type:\t['BURGLARY', 'DECEPTIVE PRACTICE', 'BATTERY', 'THEFT', 'BATTERY']\n",
    "Description:\t['FORCIBLE ENTRY', 'FRAUD OR CONFIDENCE GAME', 'AGGRAVATED DOMESTIC BATTERY - OTHER DANGEROUS WEAPON', 'OVER $500', 'SIMPLE']\n",
    "Location Description:\t['COMMERCIAL / BUSINESS OFFICE', 'GROCERY FOOD STORE', 'CLEANING STORE', 'STREET', 'ALLEY']\n",
    "Arrest:\t['False', 'False', 'True', 'False', 'False']\n",
    "Domestic:\t['False', 'False', 'True', 'False', 'False']\n",
    "Year:\t['2019', '2019', '2019', '2019', '2019']\n",
    "Latitude:\t['41.751307057', '41.903996883000005', '41.880328606', '41.924383963000004', '41.755797128000005']\n",
    "Longitude:\t['-87.60346764', '-87.64323023799999', '-87.758473298', '-87.64144151299999', '-87.634426259']\n",
    "```\n",
    "What Python data type should each one be?"
   ]
  },
  {
   "cell_type": "markdown",
   "metadata": {},
   "source": [
    "- ID: \n",
    "- Case Number: \n",
    "- Date: \n",
    "- Primary Type: \n",
    "- Description: \n",
    "- Location Description: \n",
    "- Arrest: \n",
    "- Domestic: \n",
    "- Year: \n",
    "- Latitude: \n",
    "- Longitude: "
   ]
  },
  {
   "cell_type": "markdown",
   "metadata": {},
   "source": [
    "#### Task 4.2: Converting One Column\n",
    "\n",
    "Floats first!"
   ]
  },
  {
   "cell_type": "code",
   "execution_count": 14,
   "metadata": {},
   "outputs": [],
   "source": [
    "def to_float(col_data):\n",
    "    fdata = []\n",
    "    for c in col_data:\n",
    "        fdata.append( float(c) )\n",
    "    return fdata\n",
    "\n",
    "float_cols = ['Latitude','Longitude']\n",
    "for f in float_cols:\n",
    "    ds[ f ] = to_float( ds[f] )"
   ]
  },
  {
   "cell_type": "code",
   "execution_count": 15,
   "metadata": {},
   "outputs": [
    {
     "data": {
      "text/plain": [
       "[41.751307057,\n",
       " 41.903996883000005,\n",
       " 41.880328606,\n",
       " 41.924383963000004,\n",
       " 41.755797128000005,\n",
       " 41.689755622]"
      ]
     },
     "execution_count": 15,
     "metadata": {},
     "output_type": "execute_result"
    }
   ],
   "source": [
    "ds['Latitude'][:6]"
   ]
  },
  {
   "cell_type": "markdown",
   "metadata": {},
   "source": [
    "Then booleans!"
   ]
  },
  {
   "cell_type": "code",
   "execution_count": 16,
   "metadata": {},
   "outputs": [],
   "source": [
    "def to_bool(col_data):\n",
    "    fdata = []\n",
    "    for c in col_data:\n",
    "        fdata.append( c=='True' )\n",
    "    return fdata\n",
    "\n",
    "bool_cols = ['Arrest','Domestic']\n",
    "for b in bool_cols:\n",
    "    ds[ b ] = to_bool( ds[b] )"
   ]
  },
  {
   "cell_type": "code",
   "execution_count": 17,
   "metadata": {},
   "outputs": [
    {
     "data": {
      "text/plain": [
       "[False, False, True, False, False, False]"
      ]
     },
     "execution_count": 17,
     "metadata": {},
     "output_type": "execute_result"
    }
   ],
   "source": [
    "ds['Arrest'][:6]"
   ]
  },
  {
   "cell_type": "markdown",
   "metadata": {},
   "source": [
    "Then ints! (Drop if time is short)"
   ]
  },
  {
   "cell_type": "code",
   "execution_count": 18,
   "metadata": {},
   "outputs": [],
   "source": [
    "def to_int(col_data):\n",
    "    fdata = []\n",
    "    for c in col_data:\n",
    "        fdata.append( int(c) )\n",
    "    return fdata\n",
    "\n",
    "int_cols = ['ID','Year']\n",
    "for i in int_cols:\n",
    "    ds[ i ] = to_int( ds[i] )"
   ]
  },
  {
   "cell_type": "code",
   "execution_count": 19,
   "metadata": {},
   "outputs": [
    {
     "data": {
      "text/plain": [
       "[2019, 2019, 2019, 2019, 2019, 2019]"
      ]
     },
     "execution_count": 19,
     "metadata": {},
     "output_type": "execute_result"
    }
   ],
   "source": [
    "ds['Year'][:6]"
   ]
  },
  {
   "cell_type": "markdown",
   "metadata": {},
   "source": [
    "#### Task 4.3: Converting Multiple Columns\n",
    "\n",
    "Now, although I wasn't copy-pasting the exact same code, I _was_ doing it for functions. Could we improve this? Could we have a function that dealt with all types of data?"
   ]
  },
  {
   "cell_type": "code",
   "execution_count": 20,
   "metadata": {},
   "outputs": [
    {
     "name": "stdout",
     "output_type": "stream",
     "text": [
      "dict_keys(['ID', 'Case Number', 'Date', 'Primary Type', 'Description', 'Location Description', 'Arrest', 'Domestic', 'Year', 'Latitude', 'Longitude'])\n"
     ]
    }
   ],
   "source": [
    "print(ds.keys())"
   ]
  },
  {
   "cell_type": "code",
   "execution_count": 21,
   "metadata": {},
   "outputs": [],
   "source": [
    "def to_type(cdata, ctype):\n",
    "    fdata = []\n",
    "    for c in cdata:\n",
    "        try:\n",
    "            if ctype==bool:\n",
    "                fdata.append( c=='True' )\n",
    "            else:\n",
    "                fdata.append( ctype(c) )\n",
    "        except TypeError:\n",
    "            fdata.append( c )\n",
    "    return fdata\n",
    "\n",
    "cols = {\n",
    "    'Latitude':float,\n",
    "    'Longitude':float,\n",
    "    'ID':int,\n",
    "    'Year':int,\n",
    "    'Arrest':bool,\n",
    "    'Domestic':bool,\n",
    "    'Case Number':str,\n",
    "    'Date':str,\n",
    "    'Primary Type':str,\n",
    "    'Description':str,\n",
    "    'Location Description':str\n",
    "}\n",
    "\n",
    "ds2 = {}\n",
    "\n",
    "for k in ds.keys():\n",
    "    ds2[ k ] = to_type(ds[k], cols[k])"
   ]
  },
  {
   "cell_type": "code",
   "execution_count": 22,
   "metadata": {},
   "outputs": [
    {
     "name": "stdout",
     "output_type": "stream",
     "text": [
      "[11667185, 11909178, 11852571, 11804855, 11808164]\n",
      "['JC237601', 'JC532226', 'JC462365', 'JC405161', 'JC409088']\n",
      "['04/20/2019 11:00:00 PM', '12/02/2019 10:35:00 AM', '10/06/2019 04:50:00 PM', '08/23/2019 10:00:00 PM', '08/26/2019 12:00:00 AM']\n",
      "['BURGLARY', 'DECEPTIVE PRACTICE', 'BATTERY', 'THEFT', 'BATTERY']\n",
      "['FORCIBLE ENTRY', 'FRAUD OR CONFIDENCE GAME', 'AGGRAVATED DOMESTIC BATTERY - OTHER DANGEROUS WEAPON', 'OVER $500', 'SIMPLE']\n",
      "['COMMERCIAL / BUSINESS OFFICE', 'GROCERY FOOD STORE', 'CLEANING STORE', 'STREET', 'ALLEY']\n",
      "[False, False, True, False, False]\n",
      "[False, False, True, False, False]\n",
      "[2019, 2019, 2019, 2019, 2019]\n",
      "[41.751307057, 41.903996883000005, 41.880328606, 41.924383963000004, 41.755797128000005]\n",
      "[-87.60346764, -87.64323023799999, -87.758473298, -87.64144151299999, -87.634426259]\n"
     ]
    }
   ],
   "source": [
    "for k in ds.keys():\n",
    "    print(ds[k][:5])"
   ]
  },
  {
   "cell_type": "markdown",
   "metadata": {},
   "source": [
    "Why might this solution be better or worse?\n",
    "\n",
    "Let's talk out the pros and cons."
   ]
  },
  {
   "cell_type": "markdown",
   "metadata": {},
   "source": [
    "## Task 4: Using Set, List, and Dictionary Functions\n",
    "\n",
    "- What are the distinct Primary Types?\n",
    "- How many Narcotics charges are there?\n",
    "- Creating an Index for updating/inserting? "
   ]
  },
  {
   "cell_type": "markdown",
   "metadata": {},
   "source": [
    "#### Task 4.1: Distinct Types\n",
    "\n",
    "Using set to create a categorical data type."
   ]
  },
  {
   "cell_type": "code",
   "execution_count": 23,
   "metadata": {},
   "outputs": [
    {
     "name": "stdout",
     "output_type": "stream",
     "text": [
      "{'INTERFERENCE WITH PUBLIC OFFICER', 'OTHER OFFENSE', 'DECEPTIVE PRACTICE', 'MOTOR VEHICLE THEFT', 'ROBBERY', 'BURGLARY', 'SEX OFFENSE', 'NARCOTICS', 'CRIMINAL SEXUAL ASSAULT', 'WEAPONS VIOLATION', 'BATTERY', 'ASSAULT', 'THEFT', 'CRIMINAL DAMAGE', 'STALKING'}\n"
     ]
    }
   ],
   "source": [
    "s = set(ds['Primary Type'])\n",
    "print(s)"
   ]
  },
  {
   "cell_type": "markdown",
   "metadata": {},
   "source": [
    "#### Task 4.2: Find All Matches\n",
    "\n",
    "How would be find not just the first `index()` but all that match?\n",
    "\n",
    "- [Google it](https://www.google.com/search?q=python3+find+all+index+of+element+in+list&rlz=1C5CHFA_enGB917GB917&oq=python3+find+all+indexes+of&aqs=chrome.2.69i57j33l3.8922j0j4&sourceid=chrome&ie=UTF-8)\n",
    "- [Looks promising](https://stackoverflow.com/questions/6294179/how-to-find-all-occurrences-of-an-element-in-a-list) _[Note that one solution uses a list comprehension and the other numpy]_"
   ]
  },
  {
   "cell_type": "code",
   "execution_count": 24,
   "metadata": {},
   "outputs": [
    {
     "name": "stdout",
     "output_type": "stream",
     "text": [
      "[6, 14, 30, 35, 51, 75, 99]\n"
     ]
    }
   ],
   "source": [
    "# Paste in solution as template\n",
    "# indices = [i for i, x in enumerate(my_list) if x == \"whatever\"]\n",
    "# Now we need to modify it for our purposes\n",
    "\n",
    "target = 'NARCOTICS'\n",
    "indices = [i for i, x in enumerate(ds2['Primary Type']) if x == target]\n",
    "print(indices)"
   ]
  },
  {
   "cell_type": "code",
   "execution_count": 25,
   "metadata": {},
   "outputs": [],
   "source": [
    "# We can't do this as a slice, so for loop necessary\n",
    "result = {}\n",
    "\n",
    "# Create empty result set\n",
    "for c in col_names:\n",
    "    result[c] = []\n",
    "\n",
    "# Notice how much simpler this is than \n",
    "# when we had a list-of-lists\n",
    "for i in indices:\n",
    "    for c in col_names:\n",
    "        result[ c ].append( ds2[c][i] )\n"
   ]
  },
  {
   "cell_type": "code",
   "execution_count": 26,
   "metadata": {},
   "outputs": [
    {
     "name": "stdout",
     "output_type": "stream",
     "text": [
      "ID:\t[11826687, 11669330, 11855998, 11622744, 11592042, 11807399, 11648994]\n",
      "Case Number:\t['JC431308', 'JC241440', 'JC466763', 'JC113884', 'JC147807', 'JC408479', 'JC217114']\n",
      "Date:\t['09/13/2019 07:57:00 AM', '04/28/2019 09:38:00 AM', '10/09/2019 08:48:00 PM', '01/12/2019 09:03:00 AM', '02/11/2019 01:12:00 AM', '08/26/2019 05:41:00 PM', '04/08/2019 11:10:00 PM']\n",
      "Primary Type:\t['NARCOTICS', 'NARCOTICS', 'NARCOTICS', 'NARCOTICS', 'NARCOTICS', 'NARCOTICS', 'NARCOTICS']\n",
      "Description:\t['POSSESSION OF DRUG EQUIPMENT', 'POSS: CANNABIS 30GMS OR LESS', 'POSS: PCP', 'MANU/DELIVER:SYNTHETIC DRUGS', 'POSS: CANNABIS 30GMS OR LESS', 'MANU/DELIVER: HEROIN (WHITE)', 'MANU/DELIVER: HEROIN (WHITE)']\n",
      "Location Description:\t['ALLEY', 'SIDEWALK', 'CTA BUS STOP', 'GROCERY FOOD STORE', 'STREET', 'APARTMENT', 'ABANDONED BUILDING']\n",
      "Arrest:\t[False, False, False, False, False, False, False]\n",
      "Domestic:\t[False, False, False, False, False, False, False]\n",
      "Year:\t[2019, 2019, 2019, 2019, 2019, 2019, 2019]\n",
      "Latitude:\t[41.89036711, 41.901705423, 41.873115002, 41.880715605, 41.7791416, 41.877998966999996, 41.877933236]\n",
      "Longitude:\t[-87.626673634, -87.71652681200001, -87.74566497100001, -87.726481891, -87.691591137, -87.723922524, -87.729141019]\n"
     ]
    }
   ],
   "source": [
    "# Check result\n",
    "for c in result.keys():\n",
    "    print(f\"{c}:\\t{result[c]}\")"
   ]
  },
  {
   "cell_type": "markdown",
   "metadata": {},
   "source": [
    "#### Task 4.3: Using an Index\n",
    "\n",
    "Logically, we think of an 'index' as something unique to each row. Such that if we see the same value elsewhere in the data we assume that the existing values should be overwritten, or that there is a problem with the data!\n",
    "\n",
    "- So what would be the index in this case?\n",
    "- How might we 'remember' this?"
   ]
  },
  {
   "cell_type": "code",
   "execution_count": 27,
   "metadata": {},
   "outputs": [],
   "source": [
    "idx = 'ID' # Index Column"
   ]
  },
  {
   "cell_type": "markdown",
   "metadata": {},
   "source": [
    "#### Task 4.4: Updating a Record"
   ]
  },
  {
   "cell_type": "code",
   "execution_count": 28,
   "metadata": {},
   "outputs": [],
   "source": [
    "new_record = ['11622744','JC113844','11/30/2019 07:00:00 AM','ROBBERY',\n",
    "              'POSSESSION OF DRUG EQUIPMENT','SIDEWALK','True','False',\n",
    "              '2020','41.5000000','-87.50000000']"
   ]
  },
  {
   "cell_type": "markdown",
   "metadata": {},
   "source": [
    "So perhaps we can use our `to_type` function?"
   ]
  },
  {
   "cell_type": "code",
   "execution_count": 29,
   "metadata": {},
   "outputs": [
    {
     "name": "stdout",
     "output_type": "stream",
     "text": [
      "11622744\n",
      "['1', '1', '6', '2', '2', '7', '4', '4']\n"
     ]
    },
    {
     "ename": "ValueError",
     "evalue": "['1', '1', '6', '2', '2', '7', '4', '4'] is not in list",
     "output_type": "error",
     "traceback": [
      "\u001b[0;31m---------------------------------------------------------------------------\u001b[0m",
      "\u001b[0;31mValueError\u001b[0m                                Traceback (most recent call last)",
      "\u001b[0;32m<ipython-input-29-c47ef3fb80e8>\u001b[0m in \u001b[0;36m<module>\u001b[0;34m\u001b[0m\n\u001b[1;32m      3\u001b[0m \u001b[0mlkp\u001b[0m \u001b[0;34m=\u001b[0m \u001b[0mto_type\u001b[0m\u001b[0;34m(\u001b[0m\u001b[0mnew_record\u001b[0m\u001b[0;34m[\u001b[0m \u001b[0mcol_names\u001b[0m\u001b[0;34m.\u001b[0m\u001b[0mindex\u001b[0m\u001b[0;34m(\u001b[0m\u001b[0midx\u001b[0m\u001b[0;34m)\u001b[0m \u001b[0;34m]\u001b[0m\u001b[0;34m,\u001b[0m \u001b[0;34m'int'\u001b[0m\u001b[0;34m)\u001b[0m\u001b[0;34m\u001b[0m\u001b[0;34m\u001b[0m\u001b[0m\n\u001b[1;32m      4\u001b[0m \u001b[0mprint\u001b[0m\u001b[0;34m(\u001b[0m\u001b[0mlkp\u001b[0m\u001b[0;34m)\u001b[0m\u001b[0;34m\u001b[0m\u001b[0;34m\u001b[0m\u001b[0m\n\u001b[0;32m----> 5\u001b[0;31m \u001b[0mprint\u001b[0m\u001b[0;34m(\u001b[0m\u001b[0mds2\u001b[0m\u001b[0;34m[\u001b[0m\u001b[0midx\u001b[0m\u001b[0;34m]\u001b[0m\u001b[0;34m.\u001b[0m\u001b[0mindex\u001b[0m\u001b[0;34m(\u001b[0m\u001b[0mlkp\u001b[0m\u001b[0;34m)\u001b[0m\u001b[0;34m)\u001b[0m\u001b[0;34m\u001b[0m\u001b[0;34m\u001b[0m\u001b[0m\n\u001b[0m",
      "\u001b[0;31mValueError\u001b[0m: ['1', '1', '6', '2', '2', '7', '4', '4'] is not in list"
     ]
    }
   ],
   "source": [
    "# Find the index\n",
    "print(new_record[ col_names.index(idx) ])\n",
    "lkp = to_type(new_record[ col_names.index(idx) ], 'int')\n",
    "print(lkp)\n",
    "print(ds2[idx].index(lkp))"
   ]
  },
  {
   "cell_type": "markdown",
   "metadata": {},
   "source": [
    "Why doesn't that work? \n",
    "\n",
    "- Look at the function... \n",
    "- Note that is _assumes_ all input is a list!\n",
    "- So we need to make it more generic\n",
    "- How do we [check if something is a string](https://www.google.com/search?q=check+if+variable+is+string+python&rlz=1C5CHFA_enGB917GB917&oq=check+if+variable+is+string+python&aqs=chrome..69i57j0l7.4572j0j7&sourceid=chrome&ie=UTF-8)? "
   ]
  },
  {
   "cell_type": "code",
   "execution_count": null,
   "metadata": {},
   "outputs": [],
   "source": [
    "def to_type(cdata, ctype):\n",
    "    # If a string\n",
    "    if isinstance(cdata, str):\n",
    "        try:\n",
    "            return ctype(cdata)\n",
    "        except TypeError:\n",
    "            return cdata\n",
    "        \n",
    "    # Not a string (assume list)\n",
    "    else: \n",
    "        fdata = []\n",
    "        for c in cdata:\n",
    "            try: \n",
    "                fdata.append( ctype(c) )\n",
    "            except TypeError:\n",
    "                fdata.append( c )\n",
    "        return fdata"
   ]
  },
  {
   "cell_type": "code",
   "execution_count": null,
   "metadata": {},
   "outputs": [],
   "source": [
    "# Find the index\n",
    "print(new_record[ col_names.index(idx) ])\n",
    "lkp  = to_type(new_record[ col_names.index(idx) ], int)\n",
    "idxr = ds2[idx].index(lkp) # Index Row\n",
    "print(f\"Index is: {idxr}\")\n",
    "\n",
    "# Output the record\n",
    "for c in ds2.keys():\n",
    "    print(f\"\\t{c}\\t->\\t{ds2[c][idxr]}\")"
   ]
  },
  {
   "cell_type": "markdown",
   "metadata": {},
   "source": [
    "And now for the update!"
   ]
  },
  {
   "cell_type": "code",
   "execution_count": null,
   "metadata": {},
   "outputs": [],
   "source": [
    "# And now for the update\n",
    "for cid in range(0,len(col_names)):\n",
    "    print(col_names[cid])\n",
    "    print(\"\\t\" + str(ds2[col_names[cid]][idxr]))\n",
    "    print(\"\\t\" + str(new_record[cid]))"
   ]
  },
  {
   "cell_type": "code",
   "execution_count": null,
   "metadata": {},
   "outputs": [],
   "source": [
    "# And check the update\n",
    "for cid in range(0,len(col_names)):\n",
    "    ds2[col_names[cid]][idxr] = to_type(new_record[cid], cols[col_names[cid]])"
   ]
  },
  {
   "cell_type": "code",
   "execution_count": null,
   "metadata": {},
   "outputs": [],
   "source": [
    "# Check the updated record\n",
    "for c in ds2.keys():\n",
    "    print(f\"\\t{c}\\t->\\t{ds2[c][idxr]}\")"
   ]
  },
  {
   "cell_type": "markdown",
   "metadata": {},
   "source": [
    "#### Task 4.5: Creating Functions from Code\n",
    "\n",
    "- Turn the 'find value in index' code into a function\n",
    "- Turn the 'update value based on index' code into a function\n",
    "- Create an 'add row' function"
   ]
  },
  {
   "cell_type": "markdown",
   "metadata": {},
   "source": [
    "## Bonus Task 5: Using Packages\n",
    "\n",
    "- Move all functions to a package\n",
    "- Give this a name\n",
    "- Experiment with importing functions"
   ]
  }
 ],
 "metadata": {
  "anaconda-cloud": {},
  "kernelspec": {
   "display_name": "Python 3",
   "language": "python",
   "name": "python3"
  },
  "language_info": {
   "codemirror_mode": {
    "name": "ipython",
    "version": 3
   },
   "file_extension": ".py",
   "mimetype": "text/x-python",
   "name": "python",
   "nbconvert_exporter": "python",
   "pygments_lexer": "ipython3",
   "version": "3.8.5"
  }
 },
 "nbformat": 4,
 "nbformat_minor": 4
}
