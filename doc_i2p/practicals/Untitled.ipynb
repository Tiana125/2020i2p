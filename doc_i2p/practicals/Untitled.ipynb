{
 "cells": [
  {
   "cell_type": "code",
   "execution_count": 53,
   "metadata": {},
   "outputs": [
    {
     "name": "stdout",
     "output_type": "stream",
     "text": [
      "The dialling code for Manchester is 0161\n"
     ]
    }
   ],
   "source": [
    "\n",
    "\"The dialling code for Manchester is 0161\"\n",
    "\n",
    "def diallingCode(city='Manchester'):\n",
    "    if city == 'Manchester':\n",
    "        return str(161).zfill(4)\n",
    "    elif city == 'Bristol':\n",
    "        return str(117).zfill(4)\n",
    "    elif city == 'Edinburgh':\n",
    "        return str(131).zfill(4)\n",
    "    else:\n",
    "        return 'Unknown City'\n",
    "\n",
    "print(\"The dialling code for Manchester is \" + diallingCode())\n"
   ]
  },
  {
   "cell_type": "code",
   "execution_count": null,
   "metadata": {},
   "outputs": [],
   "source": []
  }
 ],
 "metadata": {
  "kernelspec": {
   "display_name": "Python 3",
   "language": "python",
   "name": "python3"
  },
  "language_info": {
   "codemirror_mode": {
    "name": "ipython",
    "version": 3
   },
   "file_extension": ".py",
   "mimetype": "text/x-python",
   "name": "python",
   "nbconvert_exporter": "python",
   "pygments_lexer": "ipython3",
   "version": "3.7.8"
  }
 },
 "nbformat": 4,
 "nbformat_minor": 4
}
