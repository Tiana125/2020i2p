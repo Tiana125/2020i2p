{
 "cells": [
  {
   "cell_type": "markdown",
   "metadata": {},
   "source": [
    "1. Who collected the data? [25 words; 1 mark; Consider the source of the data and its relation to the underlying data generating process.]\n",
    "\n",
    "\n",
    "The data is from the [inside airbnb](http://insideairbnb.com/get-the-data.html) website, an activist project founded by independent developers that concerns the impact of Airbnb on worldwide residential societies. \n",
    "\n",
    "\n",
    "2. Why did they collect it? [50 words; 2 marks; Consider the purposes for which the data was collected and how this might shape its form/content.]\n",
    "\n",
    "\n",
    "They intend to demonstrate the _true influence of Airbnb_ on residential communities, by showing the actual Airbnb listings information to public. This enables researchers, hospitality analysts, tenants and landlords to browse how Airbnb is being used and understand its impact. It also forces Airbnb to be _transparent_ in their statements.\n",
    "\n",
    "\n",
    "3. How was it collected? [75 words; 3 marks; What was the method by which the data was collected and how might this shape its form/content.]\n",
    "\n",
    "The script behind inside airbnb website _scrapes_ from the official Airbnb website regularly, it identifies the key attributes of listings within a certain user-specified bounding box in a city. Every scraping attempt constructs a dictionary, whose primary keys are room_id (resulting table) and survey_id(a complete search of a given city's listings), and values associated are specific listings information. All results are publicly accessible information, stored in databases [1], and shown in a table when requested. "
   ]
  },
  {
   "cell_type": "markdown",
   "metadata": {},
   "source": []
  },
  {
   "cell_type": "code",
   "execution_count": 1,
   "metadata": {},
   "outputs": [],
   "source": [
    "import os\n",
    "import numpy as np\n",
    "import pandas as pd\n",
    "import geopandas as gpd\n",
    "import matplotlib.cm as cm\n",
    "import matplotlib.pyplot as plt"
   ]
  },
  {
   "cell_type": "code",
   "execution_count": 7,
   "metadata": {},
   "outputs": [],
   "source": [
    "source_data = pd.read_csv('2020-08-24-listings.csv',low_memory=False)"
   ]
  },
  {
   "cell_type": "code",
   "execution_count": 8,
   "metadata": {},
   "outputs": [
    {
     "name": "stdout",
     "output_type": "stream",
     "text": [
      "<class 'pandas.core.frame.DataFrame'>\n",
      "RangeIndex: 74188 entries, 0 to 74187\n",
      "Data columns (total 74 columns):\n",
      " #   Column                                        Non-Null Count  Dtype  \n",
      "---  ------                                        --------------  -----  \n",
      " 0   id                                            74186 non-null  float64\n",
      " 1   listing_url                                   74187 non-null  object \n",
      " 2   scrape_id                                     74187 non-null  object \n",
      " 3   last_scraped                                  74187 non-null  object \n",
      " 4   name                                          74167 non-null  object \n",
      " 5   description                                   71329 non-null  object \n",
      " 6   neighborhood_overview                         47208 non-null  object \n",
      " 7   picture_url                                   74188 non-null  object \n",
      " 8   host_id                                       74188 non-null  float64\n",
      " 9   host_url                                      74188 non-null  object \n",
      " 10  host_name                                     74179 non-null  object \n",
      " 11  host_since                                    74179 non-null  object \n",
      " 12  host_location                                 74006 non-null  object \n",
      " 13  host_about                                    42494 non-null  object \n",
      " 14  host_response_time                            37781 non-null  object \n",
      " 15  host_response_rate                            37779 non-null  object \n",
      " 16  host_acceptance_rate                          51597 non-null  object \n",
      " 17  host_is_superhost                             74177 non-null  object \n",
      " 18  host_thumbnail_url                            74177 non-null  object \n",
      " 19  host_picture_url                              74177 non-null  object \n",
      " 20  host_neighbourhood                            56560 non-null  object \n",
      " 21  host_listings_count                           74175 non-null  float64\n",
      " 22  host_total_listings_count                     74177 non-null  object \n",
      " 23  host_verifications                            74186 non-null  object \n",
      " 24  host_has_profile_pic                          74177 non-null  object \n",
      " 25  host_identity_verified                        74177 non-null  object \n",
      " 26  neighbourhood                                 47207 non-null  object \n",
      " 27  neighbourhood_cleansed                        74186 non-null  object \n",
      " 28  neighbourhood_group_cleansed                  2 non-null      float64\n",
      " 29  latitude                                      74186 non-null  float64\n",
      " 30  longitude                                     74186 non-null  float64\n",
      " 31  property_type                                 74186 non-null  object \n",
      " 32  room_type                                     74186 non-null  object \n",
      " 33  accommodates                                  74186 non-null  float64\n",
      " 34  bathrooms                                     2 non-null      float64\n",
      " 35  bathrooms_text                                74029 non-null  object \n",
      " 36  bedrooms                                      69594 non-null  object \n",
      " 37  beds                                          73199 non-null  float64\n",
      " 38  amenities                                     74186 non-null  object \n",
      " 39  price                                         74186 non-null  object \n",
      " 40  minimum_nights                                74186 non-null  float64\n",
      " 41  maximum_nights                                74186 non-null  object \n",
      " 42  minimum_minimum_nights                        74186 non-null  float64\n",
      " 43  maximum_minimum_nights                        74186 non-null  float64\n",
      " 44  minimum_maximum_nights                        74186 non-null  float64\n",
      " 45  maximum_maximum_nights                        74186 non-null  object \n",
      " 46  minimum_nights_avg_ntm                        74186 non-null  object \n",
      " 47  maximum_nights_avg_ntm                        74186 non-null  float64\n",
      " 48  calendar_updated                              2 non-null      float64\n",
      " 49  has_availability                              74186 non-null  object \n",
      " 50  availability_30                               74186 non-null  float64\n",
      " 51  availability_60                               74186 non-null  float64\n",
      " 52  availability_90                               74186 non-null  float64\n",
      " 53  availability_365                              74186 non-null  float64\n",
      " 54  calendar_last_scraped                         74184 non-null  object \n",
      " 55  number_of_reviews                             74186 non-null  object \n",
      " 56  number_of_reviews_ltm                         74186 non-null  float64\n",
      " 57  number_of_reviews_l30d                        74186 non-null  float64\n",
      " 58  first_review                                  53903 non-null  object \n",
      " 59  last_review                                   53903 non-null  object \n",
      " 60  review_scores_rating                          52285 non-null  float64\n",
      " 61  review_scores_accuracy                        52233 non-null  float64\n",
      " 62  review_scores_cleanliness                     52242 non-null  float64\n",
      " 63  review_scores_checkin                         52194 non-null  float64\n",
      " 64  review_scores_communication                   52234 non-null  float64\n",
      " 65  review_scores_location                        52197 non-null  float64\n",
      " 66  review_scores_value                           52196 non-null  float64\n",
      " 67  license                                       0 non-null      float64\n",
      " 68  instant_bookable                              74184 non-null  object \n",
      " 69  calculated_host_listings_count                74184 non-null  float64\n",
      " 70  calculated_host_listings_count_entire_homes   74184 non-null  float64\n",
      " 71  calculated_host_listings_count_private_rooms  74184 non-null  float64\n",
      " 72  calculated_host_listings_count_shared_rooms   74184 non-null  float64\n",
      " 73  reviews_per_month                             53901 non-null  float64\n",
      "dtypes: float64(34), object(40)\n",
      "memory usage: 41.9+ MB\n"
     ]
    }
   ],
   "source": [
    "source_data.info()"
   ]
  },
  {
   "cell_type": "code",
   "execution_count": null,
   "metadata": {},
   "outputs": [],
   "source": [
    "source_data[]"
   ]
  },
  {
   "cell_type": "markdown",
   "metadata": {},
   "source": [
    "What useful information does it contain? [100 words; 7 marks; A general description of key fields and records identified by the student that might support subsequent analysis.]\n",
    "\n",
    "\n",
    "It contains information about all listings from the date scraped, which could be categorised into three main parts: property information, host information and reviews. _Property information_ includes location, neighbourhood, description, type (private room or entire property), amenities, availabilities, and price. _Host information_ contains names, pictures, descriptions, their listing(s), whether they are verified, and the means verified. The _reviews_ part includes ratings to different aspects (cleanliness, value, etc.), number of reviews within some timeframe. Other miscellaneous info contains whether the host is a superhost, the property is instant bookable and licensed. \n",
    "\n",
    "\n",
    "What useful information is it missing? [50 words; 7 marks; A general description of key fields and records that a naive, but technically skilled, user might think that the data included but which it does not.]\n",
    "\n",
    "\n",
    "Regarding the _property information_ section, there is no column that specifies whether the property is wheelchair accessible or pet friendly. A cleaning fee, usually applicable to every tenant, could be added to the _price_ section. There is no _past bookings_ information as well. \n",
    "\n",
    "\n",
    "To what extent is the data ‘complete’? [150 words; 20 marks; Reflecting on #4 and #5, to what extent is this data a ‘complete’ picture of the process that it claims to allow us to examine?]\n",
    "\n",
    "Completeness in data requires collecting the same information about every observation, therefore those columns with _missing values_ are incomplete columns, in addition to missing categories of data mentioned above. \n",
    "\n",
    "Nevertheless, if ones overlook those columns (drop those with N/A values), and draw their attention to the developers’ primary objective, it fulfils the purpose of revealing how Airbnb is being used to compete with the residential housing market [1]. The data is complete because its analytical result is consistent with official claims: there is agreement in total listings (and therefore hosts) between the websites’ visualisations and Airbnb data of within a few percent , and the distribution of multiple-listing hosts claimed by Airbnb and of room types is well reflected as well. \n",
    "\n",
    "Therefore, the criteria of whether the data is ‘complete’ is __contextual__, it is complete as long as it can support the hypothesis without serious flaws due to gaps in data. \n",
    "\n"
   ]
  },
  {
   "cell_type": "code",
   "execution_count": null,
   "metadata": {},
   "outputs": [],
   "source": []
  },
  {
   "cell_type": "markdown",
   "metadata": {},
   "source": [
    "What kinds of analysis would this support? [150 words; 15 marks; Given the limitations and opportunities identified above, what kinds of analysis would this data support?]\n",
    "\n",
    "listing pic or info/ price/ review\n",
    "predict how much a host make based on ... occupancy rate\n",
    "\n",
    "What kinds of analysis would it *not* support? [100 words; 15 marks; Given the limitations and opportunities identified above, what kinds of analysis cannot be undertaken that a naive, but technically skilled, user might think were possible?]\n",
    "\n",
    "There is no history of transaction success, no way to monitor the preference of landlord/\n",
    "\n",
    "Which of the uses listed in #7 are ethical? [300 words; 30 marks; Justify the ethics of these analyses with reference to examples drawn from both #7 and #8 and to the literature.]"
   ]
  },
  {
   "cell_type": "code",
   "execution_count": null,
   "metadata": {},
   "outputs": [],
   "source": []
  }
 ],
 "metadata": {
  "kernelspec": {
   "display_name": "Python 3",
   "language": "python",
   "name": "python3"
  },
  "language_info": {
   "codemirror_mode": {
    "name": "ipython",
    "version": 3
   },
   "file_extension": ".py",
   "mimetype": "text/x-python",
   "name": "python",
   "nbconvert_exporter": "python",
   "pygments_lexer": "ipython3",
   "version": "3.7.8"
  }
 },
 "nbformat": 4,
 "nbformat_minor": 4
}
